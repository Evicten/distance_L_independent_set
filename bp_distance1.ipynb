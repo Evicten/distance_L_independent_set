{
 "cells": [
  {
   "cell_type": "code",
   "execution_count": 1,
   "metadata": {},
   "outputs": [],
   "source": [
    "import numpy as np\n",
    "import matplotlib.pyplot as plt\n",
    "import itertools\n",
    "from tqdm import tqdm"
   ]
  },
  {
   "cell_type": "code",
   "execution_count": 2,
   "metadata": {},
   "outputs": [],
   "source": [
    "def factor_function(sigma_i, sigma_j, permutation):\n",
    "    final = 1\n",
    "    total = 0\n",
    "    \n",
    "    if sigma_i == 1:\n",
    "        total = sigma_j + np.sum(permutation)\n",
    "        \n",
    "        if total == 0:\n",
    "            final *= 1\n",
    "        else:\n",
    "            return 0\n",
    "        \n",
    "    return final"
   ]
  },
  {
   "cell_type": "code",
   "execution_count": 3,
   "metadata": {},
   "outputs": [],
   "source": [
    "def BP(d, mu=0, tol=1e-12, max_iter=10000, damping_parameter=0.5, verbose=0, init_psi=None):\n",
    "    psi=np.zeros((2,2))\n",
    "    if init_psi is None:\n",
    "        psi=np.random.uniform(size=(2,2))\n",
    "        psi=psi/np.sum(psi)\n",
    "    else:\n",
    "        psi=init_psi.copy()\n",
    "    \n",
    "    permutations=np.array(list(itertools.product([0,1], repeat=d-1)))\n",
    "    \n",
    "    for t in range(max_iter):\n",
    "        psi_new=np.zeros((2,2))\n",
    "        for i in range(2):\n",
    "            for j in range(2):\n",
    "                for perm in permutations:\n",
    "                    mult=1\n",
    "                    if factor_function(i, j, perm)==0:\n",
    "                        continue\n",
    "                    for k in perm:\n",
    "                        mult*=psi[k,i]\n",
    "                    psi_new[i,j]+=np.exp(mu*i)*mult\n",
    "                    \n",
    "        if np.sum(psi_new)!=0:\n",
    "            psi_new=psi_new/np.sum(psi_new)\n",
    "        else:\n",
    "            psi_new=np.array([[0.25, 0.25],[0.25, 0.25]])\n",
    "        \n",
    "        psi_new=damping_parameter*psi+(1-damping_parameter)*psi_new\n",
    "        \n",
    "        Delta=np.linalg.norm(psi_new-psi)\n",
    "        if verbose==2 and t%100==0:\n",
    "            print(\"Iter : \", t+1, \" Delta : \", Delta)\n",
    "        psi=psi_new\n",
    "        if Delta<tol:\n",
    "            break\n",
    "    \n",
    "    if t==max_iter-1:\n",
    "        print(\"No convergence\"+\" ! Final error: \"+ str(Delta))\n",
    "    else:\n",
    "        if verbose>=1:\n",
    "            print(\"Converged ! Number of iteration \"+str(t))\n",
    "    \n",
    "    return psi"
   ]
  },
  {
   "cell_type": "code",
   "execution_count": 109,
   "metadata": {},
   "outputs": [
    {
     "name": "stdout",
     "output_type": "stream",
     "text": [
      "Converged ! Number of iteration 37\n",
      "Fixed point : \n",
      " [[4.05585524e-01 4.05585524e-01]\n",
      " [1.88828952e-01 5.24084474e-13]]\n"
     ]
    }
   ],
   "source": [
    "BP_fixed_point_test=BP(3, mu=0, verbose=1)\n",
    "print(\"Fixed point : \\n\", BP_fixed_point_test)"
   ]
  },
  {
   "cell_type": "code",
   "execution_count": 4,
   "metadata": {},
   "outputs": [],
   "source": [
    "def update_observables(psi, mu, d):\n",
    "        phi_=0\n",
    "        phi__=0\n",
    "        permutations=np.array(list(itertools.product([0,1], repeat=d-1)))\n",
    "        numerator=0\n",
    "        for i in range(2):\n",
    "            for j in range(2):\n",
    "                for perm in permutations:\n",
    "                    if factor_function(i, j, perm)==0:\n",
    "                        continue\n",
    "                    mult=psi[j,i]\n",
    "                    for k in perm:\n",
    "                        mult*=psi[k,i]\n",
    "                    phi_+=np.exp(mu*i)*mult\n",
    "                    numerator+=i*np.exp(mu*i)*mult\n",
    "                phi__+=psi[i,j]*psi[j,i]\n",
    "\n",
    "        if phi_==0:\n",
    "            phi_=1e-16\n",
    "        if phi__==0:\n",
    "            phi__=1e-16\n",
    "        phi=np.log(phi_)-d/2*np.log(phi__)\n",
    "\n",
    "        if numerator==0:\n",
    "            rho=0\n",
    "        else:\n",
    "            rho=numerator/phi_\n",
    "            \n",
    "        s=phi-mu*rho\n",
    "\n",
    "        return phi, rho, s\n",
    "\n",
    "##to confirm at the end\n",
    "def density_numerical(phi_list, mu_list):\n",
    "    N=phi_list.size\n",
    "    rho=np.zeros(N-1)\n",
    "    for i in range(N-1):\n",
    "        rho[i]=(phi_list[i+1]-phi_list[i])/(mu_list[i+1]-mu_list[i])\n",
    "    return rho"
   ]
  },
  {
   "cell_type": "code",
   "execution_count": 5,
   "metadata": {},
   "outputs": [],
   "source": [
    "mu_space = np.linspace(-6, 12, 200)\n",
    "d = 3\n",
    "phi_list = []\n",
    "rho_list = []\n",
    "s_list = []\n",
    "for mu in mu_space:\n",
    "    psi = BP(d, mu=mu, verbose=0)\n",
    "    phi, rho, s = update_observables(psi, mu, d)\n",
    "    phi_list.append(phi)\n",
    "    rho_list.append(rho)\n",
    "    s_list.append(s)"
   ]
  },
  {
   "cell_type": "code",
   "execution_count": 6,
   "metadata": {},
   "outputs": [
    {
     "data": {
      "image/png": "[encoded data removed]",
      "text/plain": [
       "<Figure size 640x480 with 1 Axes>"
      ]
     },
     "metadata": {},
     "output_type": "display_data"
    }
   ],
   "source": [
    "plt.plot(mu_space, rho_list, label='rho')\n",
    "plt.plot(mu_space, s_list, label='s')\n",
    "plt.xlabel('mu')\n",
    "plt.legend()\n",
    "plt.show()"
   ]
  },
  {
   "cell_type": "code",
   "execution_count": 7,
   "metadata": {},
   "outputs": [],
   "source": [
    "def find_zero_bisection(arr):\n",
    "    # Function to find zero using bisection method\n",
    "    left = 0\n",
    "    right = len(arr) - 1\n",
    "    if(arr[left]*arr[right] > 0):\n",
    "        print(\"No zero crossing found\")\n",
    "        return -1\n",
    "\n",
    "    while right - left > 1:\n",
    "        mid = (left + right) // 2\n",
    "        if arr[mid] == 0:\n",
    "            return mid  # Zero found at index 'mid'\n",
    "        elif arr[mid] * arr[left] < 0:\n",
    "            right = mid\n",
    "        else:\n",
    "            left = mid\n",
    "\n",
    "    # If exact zero not found, return the index closest to zero\n",
    "    return left if abs(arr[left]) < abs(arr[right]) else right"
   ]
  },
  {
   "cell_type": "code",
   "execution_count": 8,
   "metadata": {},
   "outputs": [
    {
     "name": "stdout",
     "output_type": "stream",
     "text": [
      "127\n"
     ]
    }
   ],
   "source": [
    "print(find_zero_bisection(s_list))"
   ]
  },
  {
   "cell_type": "code",
   "execution_count": 9,
   "metadata": {},
   "outputs": [],
   "source": [
    "def complete_run(d, mu_space, verbose=0, max_iter=100000, damping_parameter=0.8):\n",
    "    phi_list = []\n",
    "    rho_list = []\n",
    "    s_list = []\n",
    "    for mu in mu_space:\n",
    "        psi = BP(d, mu=mu, verbose=verbose, max_iter=max_iter, damping_parameter=damping_parameter)\n",
    "        phi, rho, s = update_observables(psi, mu, d)\n",
    "        phi_list.append(phi)\n",
    "        rho_list.append(rho)\n",
    "        s_list.append(s)\n",
    "\n",
    "    zero_index = find_zero_bisection(s_list)\n",
    "    if zero_index == -1:\n",
    "        return -1\n",
    "    return rho_list[zero_index]"
   ]
  },
  {
   "cell_type": "code",
   "execution_count": 20,
   "metadata": {},
   "outputs": [
    {
     "name": "stderr",
     "output_type": "stream",
     "text": [
      "100%|██████████| 3/3 [00:11<00:00,  3.85s/it]\n"
     ]
    }
   ],
   "source": [
    "d_list = [3, 4, 5]\n",
    "densest_packings = {}\n",
    "mu_space = np.linspace(2, 10, 500)\n",
    "for d in tqdm(d_list):\n",
    "    densest_packings[d] = complete_run(d, mu_space)"
   ]
  },
  {
   "cell_type": "code",
   "execution_count": 21,
   "metadata": {},
   "outputs": [
    {
     "name": "stdout",
     "output_type": "stream",
     "text": [
      "{3: 0.45898965645869283, 4: 0.42052909551769263, 5: 0.38867356136833214}\n"
     ]
    }
   ],
   "source": [
    "print(densest_packings)"
   ]
  },
  {
   "cell_type": "markdown",
   "metadata": {},
   "source": [
    "Linear Stability"
   ]
  },
  {
   "cell_type": "code",
   "execution_count": 10,
   "metadata": {},
   "outputs": [],
   "source": [
    "import sympy as sp"
   ]
  },
  {
   "cell_type": "code",
   "execution_count": 84,
   "metadata": {},
   "outputs": [],
   "source": [
    "psi_00 = sp.symbols('psi_00', real=True)\n",
    "psi_01 = sp.symbols('psi_01', real=True)\n",
    "psi_10 = sp.symbols('psi_10', real=True)\n",
    "psi_11 = sp.symbols('psi_11', real=True)\n",
    "\n",
    "psi_test = sp.Matrix([[psi_00, psi_01], [psi_10, psi_11]])\n",
    "\n",
    "mu_test = sp.symbols('mu', real=True)\n",
    "\n",
    "def bp_update_equation(d, psi, mu):\n",
    "    permutations=np.array(list(itertools.product([0,1], repeat=d-1)))\n",
    "    psi_new = sp.zeros(2, 2)\n",
    "    for i in range(2):\n",
    "        for j in range(2):\n",
    "            for perm in permutations:\n",
    "                mult = 1\n",
    "                if factor_function(i, j, perm) == 0:\n",
    "                    continue\n",
    "                for k in perm:\n",
    "                    mult *= psi[k, i]\n",
    "                psi_new[i, j] += sp.exp(mu*i)*mult\n",
    "    \n",
    "    sum_elements = sp.Add(*psi_new)\n",
    "    psi_new = psi_new/sum_elements\n",
    "    return psi_new\n",
    "\n",
    "psi_new_test = bp_update_equation(3, psi_test, mu_test)\n",
    "psi_new_test = psi_new_test.reshape(4, 1)\n",
    "psi_vec = psi_test.reshape(4, 1)\n",
    "\n",
    "jacobian_top = psi_new_test.jacobian(psi_vec)\n",
    "eigenvalues = jacobian_top.eigenvals()\n",
    "\n",
    "mu = 28.3 \n",
    "BP_fixed_point_test = BP(d=3, mu=mu, verbose=0)\n",
    "numerical_values = {psi_00: BP_fixed_point_test[0, 0], psi_01: BP_fixed_point_test[0, 1], psi_10: BP_fixed_point_test[1, 0], psi_11: BP_fixed_point_test[1, 1], mu_test: mu}\n",
    "numerical_eigenvalues = [e.evalf(subs=numerical_values) for e in eigenvalues]\n"
   ]
  },
  {
   "cell_type": "code",
   "execution_count": 85,
   "metadata": {},
   "outputs": [
    {
     "data": {
      "text/latex": [
       "$\\displaystyle \\left[\\begin{matrix}\\frac{\\psi_{00}^{2} + 2 \\psi_{00} \\psi_{10} + \\psi_{10}^{2}}{2 \\psi_{00}^{2} + 4 \\psi_{00} \\psi_{10} + \\psi_{01}^{2} e^{\\mu} + 2 \\psi_{10}^{2}} & \\frac{\\psi_{00}^{2} + 2 \\psi_{00} \\psi_{10} + \\psi_{10}^{2}}{2 \\psi_{00}^{2} + 4 \\psi_{00} \\psi_{10} + \\psi_{01}^{2} e^{\\mu} + 2 \\psi_{10}^{2}}\\\\\\frac{\\psi_{01}^{2} e^{\\mu}}{2 \\psi_{00}^{2} + 4 \\psi_{00} \\psi_{10} + \\psi_{01}^{2} e^{\\mu} + 2 \\psi_{10}^{2}} & 0\\end{matrix}\\right]$"
      ],
      "text/plain": [
       "Matrix([\n",
       "[(psi_00**2 + 2*psi_00*psi_10 + psi_10**2)/(2*psi_00**2 + 4*psi_00*psi_10 + psi_01**2*exp(mu) + 2*psi_10**2), (psi_00**2 + 2*psi_00*psi_10 + psi_10**2)/(2*psi_00**2 + 4*psi_00*psi_10 + psi_01**2*exp(mu) + 2*psi_10**2)],\n",
       "[                        psi_01**2*exp(mu)/(2*psi_00**2 + 4*psi_00*psi_10 + psi_01**2*exp(mu) + 2*psi_10**2),                                                                                                           0]])"
      ]
     },
     "execution_count": 85,
     "metadata": {},
     "output_type": "execute_result"
    }
   ],
   "source": [
    "bp_update_equation(3, psi_test, mu_test)"
   ]
  },
  {
   "cell_type": "code",
   "execution_count": 67,
   "metadata": {},
   "outputs": [
    {
     "name": "stdout",
     "output_type": "stream",
     "text": [
      "[[8.00035125e-05 8.00035130e-05]\n",
      " [9.99839993e-01 6.03050065e-13]]\n",
      "[-2.00016001065325, 0]\n",
      "{2*psi_01**2*(-2*psi_00**3 - psi_00**2*psi_01*exp(mu) - 6*psi_00**2*psi_10 + psi_00*psi_01**2*exp(mu) - 2*psi_00*psi_01*psi_10*exp(mu) - 6*psi_00*psi_10**2 + psi_01**2*psi_10*exp(mu) - psi_01*psi_10**2*exp(mu) - 2*psi_10**3)*exp(mu)/(2*psi_00**4 + 8*psi_00**3*psi_10 + 12*psi_00**2*psi_10**2 + 8*psi_00*psi_10**3 + psi_01**4*exp(2*mu) + 2*psi_10**4)**(3/2): 1, 0: 3}\n"
     ]
    }
   ],
   "source": [
    "print(BP_fixed_point_test)\n",
    "print(numerical_eigenvalues)\n",
    "print(eigenvalues)"
   ]
  },
  {
   "cell_type": "code",
   "execution_count": 86,
   "metadata": {},
   "outputs": [],
   "source": [
    "def bp_update_equation(d, psi, mu):\n",
    "    permutations=np.array(list(itertools.product([0,1], repeat=d-1)))\n",
    "    psi_new = sp.zeros(2, 2)\n",
    "    for i in range(2):\n",
    "        for j in range(2):\n",
    "            for perm in permutations:\n",
    "                mult = 1\n",
    "                if factor_function(i, j, perm) == 0:\n",
    "                    continue\n",
    "                for k in perm:\n",
    "                    mult *= psi[k, i]\n",
    "                psi_new[i, j] += sp.exp(mu*i)*mult\n",
    "    sum_elements = sp.Add(*psi_new)\n",
    "    psi_new = psi_new/sum_elements\n",
    "    return psi_new\n",
    "\n",
    "def BP_jacobian_max_eigenvalue(d, psi_fixed_point, mu_num):\n",
    "    psi_00 = sp.symbols('psi_00', real=True)\n",
    "    psi_01 = sp.symbols('psi_01', real=True)\n",
    "    psi_10 = sp.symbols('psi_10', real=True)\n",
    "    psi_11 = sp.symbols('psi_11', real=True)\n",
    "    psi = sp.Matrix([[psi_00, psi_01], [psi_10, psi_11]])\n",
    "    mu = sp.symbols('mu', real=True)\n",
    "    psi_new = bp_update_equation(d, psi, mu)\n",
    "\n",
    "    psi_new = psi_new.reshape(4, 1)\n",
    "    psi_vec = psi.reshape(4, 1)\n",
    "    \n",
    "    jacobian_result = psi_new.jacobian(psi_vec)\n",
    "\n",
    "    numerical_values = {psi_00: psi_fixed_point[0,0], psi_01: psi_fixed_point[0,1], psi_10: psi_fixed_point[1,0], psi_11: psi_fixed_point[1,1], mu: mu_num}\n",
    "\n",
    "    eigenvalues = jacobian_result.eigenvals()\n",
    "\n",
    "    numerical_eigenvalues = [e.evalf(subs=numerical_values) for e in eigenvalues]\n",
    "\n",
    "    largest_eigenvalue = max(np.abs(numerical_eigenvalues))\n",
    "    \n",
    "    return largest_eigenvalue\n",
    "    "
   ]
  },
  {
   "cell_type": "code",
   "execution_count": 101,
   "metadata": {},
   "outputs": [],
   "source": [
    "def linear_stability_analysis(d, mu_space, verbose=0, max_iter=100000, damping_parameter=0.8):\n",
    "    stability_parameters = []\n",
    "    rho_list = []\n",
    "    for mu in tqdm(mu_space):\n",
    "        BP_fixed_point = BP(d, mu=mu, verbose=verbose, max_iter=max_iter, damping_parameter=damping_parameter)\n",
    "        largest_eigenvalue = BP_jacobian_max_eigenvalue(d, BP_fixed_point, mu)\n",
    "        c_tilde = 1/(d-1)\n",
    "        stability_parameters.append(largest_eigenvalue**2*c_tilde-1)\n",
    "        phi, rho, s = update_observables(BP_fixed_point, mu, d)\n",
    "        rho_list.append(rho)\n",
    "\n",
    "    zero_index = find_zero_bisection(stability_parameters)\n",
    "    if zero_index == -1:\n",
    "        return -1, -1, stability_parameters\n",
    "    return mu_space[zero_index], rho_list[zero_index], stability_parameters\n",
    "    "
   ]
  },
  {
   "cell_type": "code",
   "execution_count": 102,
   "metadata": {},
   "outputs": [
    {
     "name": "stderr",
     "output_type": "stream",
     "text": [
      "100%|██████████| 50/50 [00:16<00:00,  3.00it/s]\n"
     ]
    }
   ],
   "source": [
    "mu_space = np.linspace(2, 10, 50)\n",
    "stability_mu, stability_densest_packing, stability_params = linear_stability_analysis(3, mu_space)"
   ]
  },
  {
   "cell_type": "code",
   "execution_count": 103,
   "metadata": {},
   "outputs": [
    {
     "name": "stdout",
     "output_type": "stream",
     "text": [
      "3.3061224489795915\n",
      "0.4132918089257219\n",
      "[-0.342308241912053, -0.299582770624420, -0.256845600389180, -0.214243192909587, -0.171910682829122, -0.129971501241002, -0.0885372456893698, -0.0477077562479747, -0.00757136016621185, 0.0317947492911343, 0.0703240304397672, 0.107960034007229, 0.144655790548124, 0.180373164152899, 0.215082188869023, 0.248760401626659, 0.281392182501611, 0.312968111012434, 0.343484345237649, 0.372942028712656, 0.401346728501679, 0.428707907049818, 0.455038428944863, 0.480354103076745, 0.504673260311597, 0.528016365746836, 0.550405664696435, 0.571864860988085, 0.592418826032529, 0.612093337022444, 0.630914842369848, 0.648910252734464, 0.666106755625197, 0.682531651930291, 0.698212212548001, 0.713175553471809, 0.727448527598009, 0.741057631960644, 0.754028928704097, 0.766387978560986, 0.778159785611464, 0.789368752091279, 0.800038642086254, 0.810192553437397, 0.819852896468783, 0.829041379199309, 0.837778997867214, 0.846086032380266, 0.853982045866937, 0.861485887884014]\n"
     ]
    }
   ],
   "source": [
    "print(stability_mu)\n",
    "print(stability_densest_packing)\n",
    "print(stability_params)"
   ]
  },
  {
   "cell_type": "code",
   "execution_count": 106,
   "metadata": {},
   "outputs": [],
   "source": [
    "def complete_run_stability(verbose=0, max_iter=10000, damping_parameter=0.8):\n",
    "    mu_space = np.linspace(2, 6, 400)\n",
    "    d_list = [3, 4, 5, 6, 7, 8, 9, 10]\n",
    "    stability_densest_packing_list = []\n",
    "    mu_stability_list = []\n",
    "    for d in d_list:\n",
    "        stability_mu, stability_densest_packing, stability_params = linear_stability_analysis(d, mu_space, verbose=verbose, max_iter=max_iter, damping_parameter=damping_parameter)\n",
    "        stability_densest_packing_list.append(stability_densest_packing)\n",
    "        mu_stability_list.append(stability_mu)\n",
    "        print(\"d = \", d, \"mu = \", stability_mu, \"rho = \", stability_densest_packing)\n",
    "\n",
    "    return mu_stability_list, stability_densest_packing_list"
   ]
  },
  {
   "cell_type": "code",
   "execution_count": 107,
   "metadata": {},
   "outputs": [
    {
     "name": "stderr",
     "output_type": "stream",
     "text": [
      "  0%|          | 0/400 [00:00<?, ?it/s]"
     ]
    },
    {
     "name": "stderr",
     "output_type": "stream",
     "text": [
      "100%|██████████| 400/400 [02:15<00:00,  2.95it/s]\n"
     ]
    },
    {
     "name": "stdout",
     "output_type": "stream",
     "text": [
      "d =  3 mu =  3.333333333333333 rho =  0.4140976600967152\n"
     ]
    },
    {
     "name": "stderr",
     "output_type": "stream",
     "text": [
      "100%|██████████| 400/400 [03:09<00:00,  2.12it/s]\n"
     ]
    },
    {
     "name": "stdout",
     "output_type": "stream",
     "text": [
      "d =  4 mu =  2.8922305764411025 rho =  0.3659065529602715\n"
     ]
    },
    {
     "name": "stderr",
     "output_type": "stream",
     "text": [
      "100%|██████████| 400/400 [03:58<00:00,  1.68it/s]\n"
     ]
    },
    {
     "name": "stdout",
     "output_type": "stream",
     "text": [
      "d =  5 mu =  2.7719298245614032 rho =  0.3333089279289404\n"
     ]
    },
    {
     "name": "stderr",
     "output_type": "stream",
     "text": [
      "100%|██████████| 400/400 [04:48<00:00,  1.38it/s]\n"
     ]
    },
    {
     "name": "stdout",
     "output_type": "stream",
     "text": [
      "d =  6 mu =  2.7518796992481205 rho =  0.3090132393298793\n"
     ]
    },
    {
     "name": "stderr",
     "output_type": "stream",
     "text": [
      "100%|██████████| 400/400 [05:44<00:00,  1.16it/s]\n"
     ]
    },
    {
     "name": "stdout",
     "output_type": "stream",
     "text": [
      "d =  7 mu =  2.7719298245614032 rho =  0.28972598827828266\n"
     ]
    },
    {
     "name": "stderr",
     "output_type": "stream",
     "text": [
      "100%|██████████| 400/400 [52:32<00:00,  7.88s/it]    \n"
     ]
    },
    {
     "name": "stdout",
     "output_type": "stream",
     "text": [
      "d =  8 mu =  2.8220551378446115 rho =  0.2741881270928912\n"
     ]
    },
    {
     "name": "stderr",
     "output_type": "stream",
     "text": [
      "100%|██████████| 400/400 [09:43<00:00,  1.46s/it]\n"
     ]
    },
    {
     "name": "stdout",
     "output_type": "stream",
     "text": [
      "d =  9 mu =  2.882205513784461 rho =  0.26105864128472434\n"
     ]
    },
    {
     "name": "stderr",
     "output_type": "stream",
     "text": [
      "100%|██████████| 400/400 [1:37:26<00:00, 14.62s/it]    "
     ]
    },
    {
     "name": "stdout",
     "output_type": "stream",
     "text": [
      "d =  10 mu =  2.9523809523809526 rho =  0.2498856663652508\n"
     ]
    },
    {
     "name": "stderr",
     "output_type": "stream",
     "text": [
      "\n"
     ]
    }
   ],
   "source": [
    "mu_stability_list, stability_densest_packing_list = complete_run_stability()"
   ]
  },
  {
   "cell_type": "code",
   "execution_count": null,
   "metadata": {},
   "outputs": [
    {
     "name": "stdout",
     "output_type": "stream",
     "text": [
      "[3.3467336683417086, 2.9045226130653266, 2.7638190954773867, 2.7437185929648242]\n",
      "[0.00017134881201939578, 2.0047828877251167e-06, 3.1704722823432315e-08, 5.656619357907435e-10]\n"
     ]
    }
   ],
   "source": [
    "print(mu_stability_list)\n",
    "print(stability_densest_packing_list)\n"
   ]
  },
  {
   "cell_type": "code",
   "execution_count": null,
   "metadata": {},
   "outputs": [],
   "source": []
  }
 ],
 "metadata": {
  "kernelspec": {
   "display_name": "Python 3",
   "language": "python",
   "name": "python3"
  },
  "language_info": {
   "codemirror_mode": {
    "name": "ipython",
    "version": 3
   },
   "file_extension": ".py",
   "mimetype": "text/x-python",
   "name": "python",
   "nbconvert_exporter": "python",
   "pygments_lexer": "ipython3",
   "version": "3.11.4"
  }
 },
 "nbformat": 4,
 "nbformat_minor": 2
}
