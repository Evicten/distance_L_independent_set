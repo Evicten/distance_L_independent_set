{
 "cells": [
  {
   "cell_type": "code",
   "execution_count": 2,
   "metadata": {},
   "outputs": [],
   "source": [
    "import numpy as np\n",
    "import matplotlib.pyplot as plt\n",
    "import itertools\n",
    "from tqdm import tqdm"
   ]
  },
  {
   "cell_type": "code",
   "execution_count": 3,
   "metadata": {},
   "outputs": [],
   "source": [
    "def factor_function(sigma_i, i_neighbours, sigma_j, j_neighbours, permutation):\n",
    "    \"\"\"\n",
    "    sigma_i: int, spin of the site i\n",
    "    i_neighbours: list, spin of the neighbours of site i, size d-1\n",
    "    sigma_j: int, spin of the site j\n",
    "    j_neighbours: list, spin of the neighbours of site j, size d-1\n",
    "\n",
    "    \"\"\"\n",
    "    final = 1\n",
    "    total = 0\n",
    "    \n",
    "    if sigma_i == 1:\n",
    "        total = sigma_j + np.sum(j_neighbours) + np.sum(i_neighbours) + np.sum(permutation)\n",
    "        \n",
    "        if total == 0:\n",
    "            final *= 1\n",
    "        else:\n",
    "            return 0\n",
    "    \n",
    "    return final"
   ]
  },
  {
   "cell_type": "code",
   "execution_count": 4,
   "metadata": {},
   "outputs": [],
   "source": [
    "def multiply_messages(i, i_neighbours, j, perm, d, psi):\n",
    "    mult = 1\n",
    "    for k in range(d-1):\n",
    "        index = (i_neighbours[k],) + tuple(perm[k*(d-1):(k+1)*(d-1)]) + (i,) + (j,) + tuple(i_neighbours[:k]) + tuple(i_neighbours[k+1:])\n",
    "        mult *= psi[index]\n",
    "    return mult\n",
    "        "
   ]
  },
  {
   "cell_type": "code",
   "execution_count": 11,
   "metadata": {},
   "outputs": [],
   "source": [
    "def BP(d, mu=0, tol=1e-12, max_iter=10000, damping_parameter=0.8, verbose=0, init_psi=None):\n",
    "    shape = tuple([2] * d + [2] * d)\n",
    "    psi=np.zeros(shape)\n",
    "    if init_psi is None:\n",
    "        psi=np.random.uniform(size=shape)\n",
    "        psi=psi/np.sum(psi)\n",
    "    else:\n",
    "        psi=init_psi.copy()\n",
    "    \n",
    "    permutations=np.array(list(itertools.product([0,1], repeat=(d-1)*(d-1))))\n",
    "    indices_permutations = list(itertools.product([0,1], repeat=d*2))\n",
    "    \n",
    "    for t in range(max_iter):\n",
    "        psi_new=np.zeros(shape)\n",
    "        for indices in indices_permutations:\n",
    "            i = indices[0]\n",
    "            i_neighbours = indices[1:d]\n",
    "            j = indices[d]\n",
    "            j_neighbours = indices[d+1:]\n",
    "            for perm in permutations:\n",
    "                mult = 1\n",
    "                if factor_function(i, i_neighbours, j, j_neighbours, perm)==0:\n",
    "                    continue\n",
    "                mult = multiply_messages(i, i_neighbours, j, perm, d, psi)\n",
    "                psi_new[indices] += np.exp(mu*i)*mult\n",
    "                    \n",
    "        if np.sum(psi_new)!=0:\n",
    "            psi_new=psi_new/np.sum(psi_new)\n",
    "        else:\n",
    "            psi_new=np.ones(shape)/np.prod(shape)\n",
    "        \n",
    "        psi_new=damping_parameter*psi+(1-damping_parameter)*psi_new\n",
    "        \n",
    "        Delta=np.linalg.norm(psi_new-psi)\n",
    "        if verbose==2 and t%100==0:\n",
    "            print(\"Iter : \", t+1, \" Delta : \", Delta)\n",
    "        psi=psi_new\n",
    "        if Delta<tol:\n",
    "            break\n",
    "    \n",
    "    if t==max_iter-1:\n",
    "        print(\"No convergence\"+\" ! Final error: \"+ str(Delta))\n",
    "    else:\n",
    "        if verbose>=1:\n",
    "            print(\"Converged ! Number of iteration \"+str(t))\n",
    "    \n",
    "    return psi"
   ]
  },
  {
   "cell_type": "code",
   "execution_count": 12,
   "metadata": {},
   "outputs": [],
   "source": [
    "test_messages = BP(3, mu=6, tol=1e-12, max_iter=10000, damping_parameter=0.6, verbose=0)"
   ]
  },
  {
   "cell_type": "code",
   "execution_count": 13,
   "metadata": {},
   "outputs": [
    {
     "name": "stdout",
     "output_type": "stream",
     "text": [
      "[[[[[[0.025 0.025]\n",
      "     [0.025 0.025]]\n",
      "\n",
      "    [[0.025 0.025]\n",
      "     [0.025 0.025]]]\n",
      "\n",
      "\n",
      "   [[[0.059 0.059]\n",
      "     [0.059 0.059]]\n",
      "\n",
      "    [[0.    0.   ]\n",
      "     [0.    0.   ]]]]\n",
      "\n",
      "\n",
      "\n",
      "  [[[[0.059 0.059]\n",
      "     [0.059 0.059]]\n",
      "\n",
      "    [[0.    0.   ]\n",
      "     [0.    0.   ]]]\n",
      "\n",
      "\n",
      "   [[[0.    0.   ]\n",
      "     [0.    0.   ]]\n",
      "\n",
      "    [[0.    0.   ]\n",
      "     [0.    0.   ]]]]]\n",
      "\n",
      "\n",
      "\n",
      "\n",
      " [[[[[0.328 0.   ]\n",
      "     [0.    0.   ]]\n",
      "\n",
      "    [[0.    0.   ]\n",
      "     [0.    0.   ]]]\n",
      "\n",
      "\n",
      "   [[[0.    0.   ]\n",
      "     [0.    0.   ]]\n",
      "\n",
      "    [[0.    0.   ]\n",
      "     [0.    0.   ]]]]\n",
      "\n",
      "\n",
      "\n",
      "  [[[[0.    0.   ]\n",
      "     [0.    0.   ]]\n",
      "\n",
      "    [[0.    0.   ]\n",
      "     [0.    0.   ]]]\n",
      "\n",
      "\n",
      "   [[[0.    0.   ]\n",
      "     [0.    0.   ]]\n",
      "\n",
      "    [[0.    0.   ]\n",
      "     [0.    0.   ]]]]]]\n"
     ]
    }
   ],
   "source": [
    "print(np.round(test_messages,3))"
   ]
  },
  {
   "cell_type": "code",
   "execution_count": 54,
   "metadata": {},
   "outputs": [
    {
     "name": "stdout",
     "output_type": "stream",
     "text": [
      "[[[[[[0.034 0.034]\n",
      "     [0.034 0.034]]\n",
      "\n",
      "    [[0.034 0.034]\n",
      "     [0.034 0.034]]]\n",
      "\n",
      "\n",
      "   [[[1.    0.058]\n",
      "     [0.058 0.058]]\n",
      "\n",
      "    [[0.    0.   ]\n",
      "     [0.    0.   ]]]]\n",
      "\n",
      "\n",
      "\n",
      "  [[[[0.058 0.058]\n",
      "     [0.058 0.058]]\n",
      "\n",
      "    [[0.    0.   ]\n",
      "     [0.    0.   ]]]\n",
      "\n",
      "\n",
      "   [[[0.    0.   ]\n",
      "     [0.    0.   ]]\n",
      "\n",
      "    [[0.    0.   ]\n",
      "     [0.    0.   ]]]]]\n",
      "\n",
      "\n",
      "\n",
      "\n",
      " [[[[[0.259 0.   ]\n",
      "     [0.    0.   ]]\n",
      "\n",
      "    [[0.    0.   ]\n",
      "     [0.    0.   ]]]\n",
      "\n",
      "\n",
      "   [[[0.    0.   ]\n",
      "     [0.    0.   ]]\n",
      "\n",
      "    [[0.    0.   ]\n",
      "     [0.    0.   ]]]]\n",
      "\n",
      "\n",
      "\n",
      "  [[[[0.    0.   ]\n",
      "     [0.    0.   ]]\n",
      "\n",
      "    [[0.    0.   ]\n",
      "     [0.    0.   ]]]\n",
      "\n",
      "\n",
      "   [[[0.    0.   ]\n",
      "     [0.    0.   ]]\n",
      "\n",
      "    [[0.    0.   ]\n",
      "     [0.    0.   ]]]]]]\n"
     ]
    }
   ],
   "source": [
    "test_messages_playground = test_messages.copy()\n",
    "test_messages_playground[0,0,1,0,0,0] = 1\n",
    "print(np.round(test_messages_playground,3))"
   ]
  },
  {
   "cell_type": "code",
   "execution_count": 56,
   "metadata": {},
   "outputs": [
    {
     "name": "stdout",
     "output_type": "stream",
     "text": [
      "[[[[[[1.    1.   ]\n",
      "     [1.    1.   ]]\n",
      "\n",
      "    [[1.    1.   ]\n",
      "     [1.    1.   ]]]\n",
      "\n",
      "\n",
      "   [[[0.058 0.058]\n",
      "     [0.058 0.058]]\n",
      "\n",
      "    [[0.    0.   ]\n",
      "     [0.    0.   ]]]]\n",
      "\n",
      "\n",
      "\n",
      "  [[[[0.058 0.058]\n",
      "     [0.058 0.058]]\n",
      "\n",
      "    [[0.    0.   ]\n",
      "     [0.    0.   ]]]\n",
      "\n",
      "\n",
      "   [[[0.    0.   ]\n",
      "     [0.    0.   ]]\n",
      "\n",
      "    [[0.    0.   ]\n",
      "     [0.    0.   ]]]]]\n",
      "\n",
      "\n",
      "\n",
      "\n",
      " [[[[[0.259 0.   ]\n",
      "     [0.    0.   ]]\n",
      "\n",
      "    [[0.    0.   ]\n",
      "     [0.    0.   ]]]\n",
      "\n",
      "\n",
      "   [[[0.    0.   ]\n",
      "     [0.    0.   ]]\n",
      "\n",
      "    [[0.    0.   ]\n",
      "     [0.    0.   ]]]]\n",
      "\n",
      "\n",
      "\n",
      "  [[[[0.    0.   ]\n",
      "     [0.    0.   ]]\n",
      "\n",
      "    [[0.    0.   ]\n",
      "     [0.    0.   ]]]\n",
      "\n",
      "\n",
      "   [[[0.    0.   ]\n",
      "     [0.    0.   ]]\n",
      "\n",
      "    [[0.    0.   ]\n",
      "     [0.    0.   ]]]]]]\n"
     ]
    }
   ],
   "source": [
    "test_messages_playground = test_messages.copy()\n",
    "for i in range(2):\n",
    "    for j in range(2):\n",
    "        for k in range(2):\n",
    "            test_messages_playground[0, 0, 0, i,j,k] = 1\n",
    "print(np.round(test_messages_playground,3))"
   ]
  },
  {
   "cell_type": "code",
   "execution_count": 62,
   "metadata": {},
   "outputs": [
    {
     "name": "stdout",
     "output_type": "stream",
     "text": [
      "[[[[[[0.034 0.034]\n",
      "     [0.034 0.034]]\n",
      "\n",
      "    [[0.034 0.034]\n",
      "     [0.034 0.034]]]\n",
      "\n",
      "\n",
      "   [[[1.    1.   ]\n",
      "     [1.    1.   ]]\n",
      "\n",
      "    [[0.    0.   ]\n",
      "     [0.    0.   ]]]]\n",
      "\n",
      "\n",
      "\n",
      "  [[[[1.    1.   ]\n",
      "     [1.    1.   ]]\n",
      "\n",
      "    [[0.    0.   ]\n",
      "     [0.    0.   ]]]\n",
      "\n",
      "\n",
      "   [[[0.    0.   ]\n",
      "     [0.    0.   ]]\n",
      "\n",
      "    [[0.    0.   ]\n",
      "     [0.    0.   ]]]]]\n",
      "\n",
      "\n",
      "\n",
      "\n",
      " [[[[[0.259 0.   ]\n",
      "     [0.    0.   ]]\n",
      "\n",
      "    [[0.    0.   ]\n",
      "     [0.    0.   ]]]\n",
      "\n",
      "\n",
      "   [[[0.    0.   ]\n",
      "     [0.    0.   ]]\n",
      "\n",
      "    [[0.    0.   ]\n",
      "     [0.    0.   ]]]]\n",
      "\n",
      "\n",
      "\n",
      "  [[[[0.    0.   ]\n",
      "     [0.    0.   ]]\n",
      "\n",
      "    [[0.    0.   ]\n",
      "     [0.    0.   ]]]\n",
      "\n",
      "\n",
      "   [[[0.    0.   ]\n",
      "     [0.    0.   ]]\n",
      "\n",
      "    [[0.    0.   ]\n",
      "     [0.    0.   ]]]]]]\n"
     ]
    }
   ],
   "source": [
    "test_messages_playground = test_messages.copy()\n",
    "for j in range(2):\n",
    "    for k in range(2):\n",
    "        test_messages_playground[0, 0, 1, 0,j,k] = 1\n",
    "for j in range(2):\n",
    "    for k in range(2):\n",
    "        test_messages_playground[0, 1, 0, 0,j,k] = 1\n",
    "print(np.round(test_messages_playground,3))"
   ]
  },
  {
   "cell_type": "code",
   "execution_count": 64,
   "metadata": {},
   "outputs": [
    {
     "name": "stdout",
     "output_type": "stream",
     "text": [
      "[[[[[[0.034 0.034]\n",
      "     [0.034 0.034]]\n",
      "\n",
      "    [[0.034 0.034]\n",
      "     [0.034 0.034]]]\n",
      "\n",
      "\n",
      "   [[[0.058 0.058]\n",
      "     [0.058 0.058]]\n",
      "\n",
      "    [[0.    0.   ]\n",
      "     [0.    0.   ]]]]\n",
      "\n",
      "\n",
      "\n",
      "  [[[[0.058 0.058]\n",
      "     [0.058 0.058]]\n",
      "\n",
      "    [[0.    0.   ]\n",
      "     [0.    0.   ]]]\n",
      "\n",
      "\n",
      "   [[[0.    0.   ]\n",
      "     [0.    0.   ]]\n",
      "\n",
      "    [[0.    0.   ]\n",
      "     [0.    0.   ]]]]]\n",
      "\n",
      "\n",
      "\n",
      "\n",
      " [[[[[1.    0.   ]\n",
      "     [0.    0.   ]]\n",
      "\n",
      "    [[0.    0.   ]\n",
      "     [0.    0.   ]]]\n",
      "\n",
      "\n",
      "   [[[0.    0.   ]\n",
      "     [0.    0.   ]]\n",
      "\n",
      "    [[0.    0.   ]\n",
      "     [0.    0.   ]]]]\n",
      "\n",
      "\n",
      "\n",
      "  [[[[0.    0.   ]\n",
      "     [0.    0.   ]]\n",
      "\n",
      "    [[0.    0.   ]\n",
      "     [0.    0.   ]]]\n",
      "\n",
      "\n",
      "   [[[0.    0.   ]\n",
      "     [0.    0.   ]]\n",
      "\n",
      "    [[0.    0.   ]\n",
      "     [0.    0.   ]]]]]]\n"
     ]
    }
   ],
   "source": [
    "test_messages_playground = test_messages.copy()\n",
    "test_messages_playground[1,0,0,0,0,0] = 1\n",
    "print(np.round(test_messages_playground,3))"
   ]
  },
  {
   "cell_type": "code",
   "execution_count": 6,
   "metadata": {},
   "outputs": [],
   "source": [
    "def update_observables(psi, mu, d=3):\n",
    "        phi_=0\n",
    "        phi__=0\n",
    "\n",
    "        permutations=np.array(list(itertools.product([0,1], repeat=(d-1)*(d-1))))\n",
    "        indices_permutations = list(itertools.product([0,1], repeat=d*2))\n",
    "        \n",
    "        numerator=0\n",
    "        \n",
    "        for indices in indices_permutations:\n",
    "            i = indices[0]\n",
    "            i_neighbours = indices[1:d]\n",
    "            j = indices[d]\n",
    "            j_neighbours = indices[d+1:]\n",
    "            for perm in permutations:\n",
    "                mult=1\n",
    "                if factor_function(i, i_neighbours, j, j_neighbours, perm)==0:\n",
    "                    continue\n",
    "                mult=multiply_messages(i, i_neighbours, j, perm, d, psi)\n",
    "                last_message_idx = (j,) + tuple(j_neighbours) + (i,) + tuple(i_neighbours)\n",
    "                mult*=psi[last_message_idx]\n",
    "                phi_+=np.exp(mu*i)*mult\n",
    "                numerator+=i*mult*np.exp(mu*i)\n",
    "                \n",
    "            entropy_idx_left = (i,) + tuple(i_neighbours) + (j,) + tuple(j_neighbours)\n",
    "            entropy_idx_right = (j,) + tuple(j_neighbours) + (i,) + tuple(i_neighbours)\n",
    "            phi__+=psi[entropy_idx_left]*psi[entropy_idx_right]\n",
    "\n",
    "        if phi_==0:\n",
    "            phi_=1e-16\n",
    "        if phi__==0:\n",
    "            phi__=1e-16\n",
    "        phi=np.log(phi_)-d/2*np.log(phi__)\n",
    "\n",
    "        if numerator==0:\n",
    "            rho=0\n",
    "        else:\n",
    "            rho=numerator/phi_\n",
    "            \n",
    "        s=phi-mu*rho\n",
    "\n",
    "        return phi, rho, s"
   ]
  },
  {
   "cell_type": "code",
   "execution_count": 8,
   "metadata": {},
   "outputs": [
    {
     "name": "stderr",
     "output_type": "stream",
     "text": [
      "  3%|▎         | 3/100 [02:47<1:30:03, 55.70s/it]\n"
     ]
    },
    {
     "ename": "KeyboardInterrupt",
     "evalue": "",
     "output_type": "error",
     "traceback": [
      "\u001b[0;31m---------------------------------------------------------------------------\u001b[0m",
      "\u001b[0;31mKeyboardInterrupt\u001b[0m                         Traceback (most recent call last)",
      "Cell \u001b[0;32mIn[8], line 7\u001b[0m\n\u001b[1;32m      5\u001b[0m s_list \u001b[38;5;241m=\u001b[39m []\n\u001b[1;32m      6\u001b[0m \u001b[38;5;28;01mfor\u001b[39;00m mu \u001b[38;5;129;01min\u001b[39;00m tqdm(mu_space):\n\u001b[0;32m----> 7\u001b[0m     psi \u001b[38;5;241m=\u001b[39m \u001b[43mBP\u001b[49m\u001b[43m(\u001b[49m\u001b[43md\u001b[49m\u001b[43m,\u001b[49m\u001b[43m \u001b[49m\u001b[43mmu\u001b[49m\u001b[38;5;241;43m=\u001b[39;49m\u001b[43mmu\u001b[49m\u001b[43m,\u001b[49m\u001b[43m \u001b[49m\u001b[43mverbose\u001b[49m\u001b[38;5;241;43m=\u001b[39;49m\u001b[38;5;241;43m0\u001b[39;49m\u001b[43m,\u001b[49m\u001b[43m \u001b[49m\u001b[43mmax_iter\u001b[49m\u001b[38;5;241;43m=\u001b[39;49m\u001b[38;5;241;43m500\u001b[39;49m\u001b[43m,\u001b[49m\u001b[43m \u001b[49m\u001b[43mtol\u001b[49m\u001b[38;5;241;43m=\u001b[39;49m\u001b[38;5;241;43m1e-12\u001b[39;49m\u001b[43m,\u001b[49m\u001b[43m \u001b[49m\u001b[43mdamping_parameter\u001b[49m\u001b[38;5;241;43m=\u001b[39;49m\u001b[38;5;241;43m0.7\u001b[39;49m\u001b[43m,\u001b[49m\u001b[43m \u001b[49m\u001b[43minit_psi\u001b[49m\u001b[38;5;241;43m=\u001b[39;49m\u001b[38;5;28;43;01mNone\u001b[39;49;00m\u001b[43m)\u001b[49m\n\u001b[1;32m      8\u001b[0m     phi, rho, s \u001b[38;5;241m=\u001b[39m update_observables(psi, mu, d)\n\u001b[1;32m      9\u001b[0m     phi_list\u001b[38;5;241m.\u001b[39mappend(phi)\n",
      "Cell \u001b[0;32mIn[5], line 22\u001b[0m, in \u001b[0;36mBP\u001b[0;34m(d, mu, tol, max_iter, damping_parameter, verbose, init_psi)\u001b[0m\n\u001b[1;32m     20\u001b[0m \u001b[38;5;28;01mfor\u001b[39;00m perm \u001b[38;5;129;01min\u001b[39;00m permutations:\n\u001b[1;32m     21\u001b[0m     mult \u001b[38;5;241m=\u001b[39m \u001b[38;5;241m1\u001b[39m\n\u001b[0;32m---> 22\u001b[0m     \u001b[38;5;28;01mif\u001b[39;00m \u001b[43mfactor_function\u001b[49m\u001b[43m(\u001b[49m\u001b[43mi\u001b[49m\u001b[43m,\u001b[49m\u001b[43m \u001b[49m\u001b[43mi_neighbours\u001b[49m\u001b[43m,\u001b[49m\u001b[43m \u001b[49m\u001b[43mj\u001b[49m\u001b[43m,\u001b[49m\u001b[43m \u001b[49m\u001b[43mj_neighbours\u001b[49m\u001b[43m,\u001b[49m\u001b[43m \u001b[49m\u001b[43mperm\u001b[49m\u001b[43m)\u001b[49m\u001b[38;5;241m==\u001b[39m\u001b[38;5;241m0\u001b[39m:\n\u001b[1;32m     23\u001b[0m         \u001b[38;5;28;01mcontinue\u001b[39;00m\n\u001b[1;32m     24\u001b[0m     mult \u001b[38;5;241m=\u001b[39m multiply_messages(i, i_neighbours, j, perm, d, psi)\n",
      "Cell \u001b[0;32mIn[2], line 13\u001b[0m, in \u001b[0;36mfactor_function\u001b[0;34m(sigma_i, i_neighbours, sigma_j, j_neighbours, permutation)\u001b[0m\n\u001b[1;32m     10\u001b[0m total \u001b[38;5;241m=\u001b[39m \u001b[38;5;241m0\u001b[39m\n\u001b[1;32m     12\u001b[0m \u001b[38;5;28;01mif\u001b[39;00m sigma_i \u001b[38;5;241m==\u001b[39m \u001b[38;5;241m1\u001b[39m:\n\u001b[0;32m---> 13\u001b[0m     total \u001b[38;5;241m=\u001b[39m sigma_j \u001b[38;5;241m+\u001b[39m np\u001b[38;5;241m.\u001b[39msum(j_neighbours) \u001b[38;5;241m+\u001b[39m np\u001b[38;5;241m.\u001b[39msum(i_neighbours) \u001b[38;5;241m+\u001b[39m \u001b[43mnp\u001b[49m\u001b[38;5;241;43m.\u001b[39;49m\u001b[43msum\u001b[49m\u001b[43m(\u001b[49m\u001b[43mpermutation\u001b[49m\u001b[43m)\u001b[49m\n\u001b[1;32m     15\u001b[0m     \u001b[38;5;28;01mif\u001b[39;00m total \u001b[38;5;241m==\u001b[39m \u001b[38;5;241m0\u001b[39m:\n\u001b[1;32m     16\u001b[0m         final \u001b[38;5;241m*\u001b[39m\u001b[38;5;241m=\u001b[39m \u001b[38;5;241m1\u001b[39m\n",
      "File \u001b[0;32m/Library/Frameworks/Python.framework/Versions/3.11/lib/python3.11/site-packages/numpy/core/fromnumeric.py:2177\u001b[0m, in \u001b[0;36msum\u001b[0;34m(a, axis, dtype, out, keepdims, initial, where)\u001b[0m\n\u001b[1;32m   2172\u001b[0m \u001b[38;5;28;01mdef\u001b[39;00m \u001b[38;5;21m_sum_dispatcher\u001b[39m(a, axis\u001b[38;5;241m=\u001b[39m\u001b[38;5;28;01mNone\u001b[39;00m, dtype\u001b[38;5;241m=\u001b[39m\u001b[38;5;28;01mNone\u001b[39;00m, out\u001b[38;5;241m=\u001b[39m\u001b[38;5;28;01mNone\u001b[39;00m, keepdims\u001b[38;5;241m=\u001b[39m\u001b[38;5;28;01mNone\u001b[39;00m,\n\u001b[1;32m   2173\u001b[0m                     initial\u001b[38;5;241m=\u001b[39m\u001b[38;5;28;01mNone\u001b[39;00m, where\u001b[38;5;241m=\u001b[39m\u001b[38;5;28;01mNone\u001b[39;00m):\n\u001b[1;32m   2174\u001b[0m     \u001b[38;5;28;01mreturn\u001b[39;00m (a, out)\n\u001b[0;32m-> 2177\u001b[0m \u001b[38;5;129m@array_function_dispatch\u001b[39m(_sum_dispatcher)\n\u001b[1;32m   2178\u001b[0m \u001b[38;5;28;01mdef\u001b[39;00m \u001b[38;5;21msum\u001b[39m(a, axis\u001b[38;5;241m=\u001b[39m\u001b[38;5;28;01mNone\u001b[39;00m, dtype\u001b[38;5;241m=\u001b[39m\u001b[38;5;28;01mNone\u001b[39;00m, out\u001b[38;5;241m=\u001b[39m\u001b[38;5;28;01mNone\u001b[39;00m, keepdims\u001b[38;5;241m=\u001b[39mnp\u001b[38;5;241m.\u001b[39m_NoValue,\n\u001b[1;32m   2179\u001b[0m         initial\u001b[38;5;241m=\u001b[39mnp\u001b[38;5;241m.\u001b[39m_NoValue, where\u001b[38;5;241m=\u001b[39mnp\u001b[38;5;241m.\u001b[39m_NoValue):\n\u001b[1;32m   2180\u001b[0m \u001b[38;5;250m    \u001b[39m\u001b[38;5;124;03m\"\"\"\u001b[39;00m\n\u001b[1;32m   2181\u001b[0m \u001b[38;5;124;03m    Sum of array elements over a given axis.\u001b[39;00m\n\u001b[1;32m   2182\u001b[0m \n\u001b[0;32m   (...)\u001b[0m\n\u001b[1;32m   2298\u001b[0m \u001b[38;5;124;03m    15\u001b[39;00m\n\u001b[1;32m   2299\u001b[0m \u001b[38;5;124;03m    \"\"\"\u001b[39;00m\n\u001b[1;32m   2300\u001b[0m     \u001b[38;5;28;01mif\u001b[39;00m \u001b[38;5;28misinstance\u001b[39m(a, _gentype):\n\u001b[1;32m   2301\u001b[0m         \u001b[38;5;66;03m# 2018-02-25, 1.15.0\u001b[39;00m\n",
      "\u001b[0;31mKeyboardInterrupt\u001b[0m: "
     ]
    }
   ],
   "source": [
    "mu_space = np.linspace(0, 10, 100)\n",
    "d = 4\n",
    "phi_list = []\n",
    "rho_list = []\n",
    "s_list = []\n",
    "for mu in tqdm(mu_space):\n",
    "    psi = BP(d, mu=mu, verbose=0, max_iter=500, tol=1e-12, damping_parameter=0.7, init_psi=None)\n",
    "    phi, rho, s = update_observables(psi, mu, d)\n",
    "    phi_list.append(phi)\n",
    "    rho_list.append(rho)\n",
    "    s_list.append(s)"
   ]
  },
  {
   "cell_type": "code",
   "execution_count": 75,
   "metadata": {},
   "outputs": [
    {
     "data": {
      "image/png": "[encoded data removed]",
      "text/plain": [
       "<Figure size 640x480 with 1 Axes>"
      ]
     },
     "metadata": {},
     "output_type": "display_data"
    }
   ],
   "source": [
    "plt.plot(mu_space, rho_list, label='rho')\n",
    "plt.plot(mu_space, s_list, label='s')\n",
    "plt.xlabel('mu')\n",
    "plt.legend()\n",
    "plt.show()"
   ]
  },
  {
   "cell_type": "code",
   "execution_count": 10,
   "metadata": {},
   "outputs": [],
   "source": [
    "def find_zero_bisection(arr):\n",
    "    # Function to find zero using bisection method\n",
    "    left = 0\n",
    "    right = len(arr) - 1\n",
    "    if(arr[left]*arr[right] > 0):\n",
    "        print(\"No zero crossing found\")\n",
    "        return -1\n",
    "\n",
    "    while right - left > 1:\n",
    "        mid = (left + right) // 2\n",
    "        if arr[mid] == 0:\n",
    "            return mid  # Zero found at index 'mid'\n",
    "        elif arr[mid] * arr[left] < 0:\n",
    "            right = mid\n",
    "        else:\n",
    "            left = mid\n",
    "\n",
    "    # If exact zero not found, return the index closest to zero\n",
    "    return left if abs(arr[left]) < abs(arr[right]) else right"
   ]
  },
  {
   "cell_type": "code",
   "execution_count": 11,
   "metadata": {},
   "outputs": [],
   "source": [
    "def complete_run(d, mu_space, verbose=0, max_iter=10000, damping_parameter=0.8):\n",
    "    phi_list = []\n",
    "    rho_list = []\n",
    "    s_list = []\n",
    "    for mu in mu_space:\n",
    "        psi = BP(d, mu=mu, verbose=verbose, max_iter=max_iter, damping_parameter=damping_parameter)\n",
    "        phi, rho, s = update_observables(psi, mu, d)\n",
    "        phi_list.append(phi)\n",
    "        rho_list.append(rho)\n",
    "        s_list.append(s)\n",
    "\n",
    "    zero_index = find_zero_bisection(s_list)\n",
    "    if zero_index == -1:\n",
    "        return -1\n",
    "    return rho_list[zero_index]"
   ]
  },
  {
   "cell_type": "code",
   "execution_count": 12,
   "metadata": {},
   "outputs": [
    {
     "name": "stdout",
     "output_type": "stream",
     "text": [
      "No zero crossing found\n",
      "No zero crossing found\n",
      "0.09862185251373098\n"
     ]
    }
   ],
   "source": [
    "find_zero_bisection(s_list)\n",
    "print(rho_list[find_zero_bisection(s_list)])"
   ]
  },
  {
   "cell_type": "code",
   "execution_count": 13,
   "metadata": {},
   "outputs": [
    {
     "name": "stderr",
     "output_type": "stream",
     "text": [
      "  0%|          | 0/4 [4:42:19<?, ?it/s]\n"
     ]
    },
    {
     "ename": "KeyboardInterrupt",
     "evalue": "",
     "output_type": "error",
     "traceback": [
      "\u001b[0;31m---------------------------------------------------------------------------\u001b[0m",
      "\u001b[0;31mKeyboardInterrupt\u001b[0m                         Traceback (most recent call last)",
      "Cell \u001b[0;32mIn[13], line 5\u001b[0m\n\u001b[1;32m      3\u001b[0m mu_space \u001b[38;5;241m=\u001b[39m np\u001b[38;5;241m.\u001b[39mlinspace(\u001b[38;5;241m3\u001b[39m, \u001b[38;5;241m9\u001b[39m, \u001b[38;5;241m100\u001b[39m)\n\u001b[1;32m      4\u001b[0m \u001b[38;5;28;01mfor\u001b[39;00m d \u001b[38;5;129;01min\u001b[39;00m tqdm(d_list):\n\u001b[0;32m----> 5\u001b[0m     densest_packings[d] \u001b[38;5;241m=\u001b[39m \u001b[43mcomplete_run\u001b[49m\u001b[43m(\u001b[49m\u001b[43md\u001b[49m\u001b[43m,\u001b[49m\u001b[43m \u001b[49m\u001b[43mmu_space\u001b[49m\u001b[43m,\u001b[49m\u001b[43m \u001b[49m\u001b[43mmax_iter\u001b[49m\u001b[38;5;241;43m=\u001b[39;49m\u001b[38;5;241;43m10000\u001b[39;49m\u001b[43m,\u001b[49m\u001b[43m \u001b[49m\u001b[43mdamping_parameter\u001b[49m\u001b[38;5;241;43m=\u001b[39;49m\u001b[38;5;241;43m0.7\u001b[39;49m\u001b[43m)\u001b[49m\n\u001b[1;32m      6\u001b[0m     \u001b[38;5;28mprint\u001b[39m(\u001b[38;5;124m\"\u001b[39m\u001b[38;5;124mDensest packing for d = \u001b[39m\u001b[38;5;124m\"\u001b[39m, d, \u001b[38;5;124m\"\u001b[39m\u001b[38;5;124m is \u001b[39m\u001b[38;5;124m\"\u001b[39m, densest_packings[d])\n",
      "Cell \u001b[0;32mIn[11], line 6\u001b[0m, in \u001b[0;36mcomplete_run\u001b[0;34m(d, mu_space, verbose, max_iter, damping_parameter)\u001b[0m\n\u001b[1;32m      4\u001b[0m s_list \u001b[38;5;241m=\u001b[39m []\n\u001b[1;32m      5\u001b[0m \u001b[38;5;28;01mfor\u001b[39;00m mu \u001b[38;5;129;01min\u001b[39;00m mu_space:\n\u001b[0;32m----> 6\u001b[0m     psi \u001b[38;5;241m=\u001b[39m \u001b[43mBP\u001b[49m\u001b[43m(\u001b[49m\u001b[43md\u001b[49m\u001b[43m,\u001b[49m\u001b[43m \u001b[49m\u001b[43mmu\u001b[49m\u001b[38;5;241;43m=\u001b[39;49m\u001b[43mmu\u001b[49m\u001b[43m,\u001b[49m\u001b[43m \u001b[49m\u001b[43mverbose\u001b[49m\u001b[38;5;241;43m=\u001b[39;49m\u001b[43mverbose\u001b[49m\u001b[43m,\u001b[49m\u001b[43m \u001b[49m\u001b[43mmax_iter\u001b[49m\u001b[38;5;241;43m=\u001b[39;49m\u001b[43mmax_iter\u001b[49m\u001b[43m,\u001b[49m\u001b[43m \u001b[49m\u001b[43mdamping_parameter\u001b[49m\u001b[38;5;241;43m=\u001b[39;49m\u001b[43mdamping_parameter\u001b[49m\u001b[43m)\u001b[49m\n\u001b[1;32m      7\u001b[0m     phi, rho, s \u001b[38;5;241m=\u001b[39m update_observables(psi, mu, d)\n\u001b[1;32m      8\u001b[0m     phi_list\u001b[38;5;241m.\u001b[39mappend(phi)\n",
      "Cell \u001b[0;32mIn[5], line 25\u001b[0m, in \u001b[0;36mBP\u001b[0;34m(d, mu, tol, max_iter, damping_parameter, verbose, init_psi)\u001b[0m\n\u001b[1;32m     23\u001b[0m             \u001b[38;5;28;01mcontinue\u001b[39;00m\n\u001b[1;32m     24\u001b[0m         mult \u001b[38;5;241m=\u001b[39m multiply_messages(i, i_neighbours, j, perm, d, psi)\n\u001b[0;32m---> 25\u001b[0m         psi_new[indices] \u001b[38;5;241m+\u001b[39m\u001b[38;5;241m=\u001b[39m np\u001b[38;5;241m.\u001b[39mexp(mu\u001b[38;5;241m*\u001b[39mi)\u001b[38;5;241m*\u001b[39mmult\n\u001b[1;32m     27\u001b[0m \u001b[38;5;28;01mif\u001b[39;00m np\u001b[38;5;241m.\u001b[39msum(psi_new)\u001b[38;5;241m!=\u001b[39m\u001b[38;5;241m0\u001b[39m:\n\u001b[1;32m     28\u001b[0m     psi_new\u001b[38;5;241m=\u001b[39mpsi_new\u001b[38;5;241m/\u001b[39mnp\u001b[38;5;241m.\u001b[39msum(psi_new)\n",
      "\u001b[0;31mKeyboardInterrupt\u001b[0m: "
     ]
    }
   ],
   "source": [
    "d_list = [4, 5, 6, 7]\n",
    "densest_packings = {}\n",
    "mu_space = np.linspace(3, 9, 100)\n",
    "for d in tqdm(d_list):\n",
    "    densest_packings[d] = complete_run(d, mu_space, max_iter=10000, damping_parameter=0.7)\n",
    "    print(\"Densest packing for d = \", d, \" is \", densest_packings[d])"
   ]
  },
  {
   "cell_type": "code",
   "execution_count": null,
   "metadata": {},
   "outputs": [
    {
     "name": "stdout",
     "output_type": "stream",
     "text": [
      "{3: 0.23548975165587643}\n"
     ]
    }
   ],
   "source": [
    "print(densest_packings)"
   ]
  },
  {
   "cell_type": "code",
   "execution_count": null,
   "metadata": {},
   "outputs": [],
   "source": []
  }
 ],
 "metadata": {
  "kernelspec": {
   "display_name": "Python 3",
   "language": "python",
   "name": "python3"
  },
  "language_info": {
   "codemirror_mode": {
    "name": "ipython",
    "version": 3
   },
   "file_extension": ".py",
   "mimetype": "text/x-python",
   "name": "python",
   "nbconvert_exporter": "python",
   "pygments_lexer": "ipython3",
   "version": "3.11.4"
  }
 },
 "nbformat": 4,
 "nbformat_minor": 2
}
