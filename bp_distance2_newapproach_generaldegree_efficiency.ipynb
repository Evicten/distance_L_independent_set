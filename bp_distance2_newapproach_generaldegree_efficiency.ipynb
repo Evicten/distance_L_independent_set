{
 "cells": [
  {
   "cell_type": "code",
   "execution_count": 1,
   "metadata": {},
   "outputs": [],
   "source": [
    "import numpy as np\n",
    "import matplotlib.pyplot as plt\n",
    "import itertools\n",
    "from tqdm import tqdm"
   ]
  },
  {
   "cell_type": "code",
   "execution_count": 2,
   "metadata": {},
   "outputs": [],
   "source": [
    "def factor_function(i_neighbours, sigma_j, j_neighbours, permutation):\n",
    "    \"\"\"\n",
    "    sigma_i: int, spin of the site i\n",
    "    i_neighbours: list, spin of the neighbours of site i, size d-1\n",
    "    sigma_j: int, spin of the site j\n",
    "    j_neighbours: list, spin of the neighbours of site j, size d-1\n",
    "\n",
    "    \"\"\"\n",
    "    final = 1\n",
    "    total = 0\n",
    "    \n",
    "\n",
    "    total = sigma_j + np.sum(j_neighbours) + np.sum(i_neighbours) + np.sum(permutation)\n",
    "    \n",
    "    if total == 0:\n",
    "        final *= 1\n",
    "    else:\n",
    "        return 0\n",
    "    \n",
    "    return final\n",
    "\n"
   ]
  },
  {
   "cell_type": "code",
   "execution_count": 3,
   "metadata": {},
   "outputs": [],
   "source": [
    "def multiply_messages(i, i_neighbours, j, perm, d, psi):\n",
    "    mult = 1\n",
    "    for k in range(d-1):\n",
    "        index = (i_neighbours[k],) + tuple(perm[k*(d-1):(k+1)*(d-1)]) + (i,) + (j,) + tuple(i_neighbours[:k]) + tuple(i_neighbours[k+1:])\n",
    "        mult *= psi[index]\n",
    "    return mult\n",
    "        "
   ]
  },
  {
   "cell_type": "code",
   "execution_count": 4,
   "metadata": {},
   "outputs": [],
   "source": [
    "##Symmetries for Efficiency\n",
    "\n",
    "def generate_indices(d):\n",
    "    index_1 = (1, ) + tuple([0, ]*(2*d-1)) \n",
    "    index_2 = (0, 1) + tuple([0, ]*(2*d-2))\n",
    "    index_3 = tuple([0, ]*(2*d))\n",
    "    indices_permutations = [(index_1), (index_2), (index_3)] \n",
    "    return indices_permutations\n",
    "\n",
    "def generate_indices_update(d):\n",
    "    indices_2_tuples = list(tuple(itertools.product([0,1], repeat=d-1)))\n",
    "    indices_2 = []\n",
    "    for i in range(d-1):\n",
    "        indices_begin = (0, )*(i+1) + (1, ) + (0,)*(d-i-1) \n",
    "        indices_2.extend([(indices_begin + permutation) for permutation in indices_2_tuples])\n",
    "\n",
    "    indices_3_tuples = list(tuple(itertools.product([0,1], repeat=d)))\n",
    "    begin_tuple = tuple([0, ]*(d)) \n",
    "    indices_3 = [(begin_tuple + permutation) for permutation in indices_3_tuples]\n",
    "\n",
    "    return indices_2, indices_3\n",
    "    \n",
    " \n",
    "def update_psi_symmetries(psi, indices_2, indices_3, indices_permutations):\n",
    "    for indices in indices_2:\n",
    "        psi[indices] = psi[indices_permutations[1]]\n",
    "\n",
    "    for indices in indices_3:\n",
    "        psi[indices] = psi[indices_permutations[2]]\n",
    "\n",
    "def initial_symmetries_update_psi(psi, d):\n",
    "    indices_0_tuples = list(tuple(itertools.product([0,1], repeat=2*d-1)))[1:]\n",
    "    indices_0 = [((1, ) + permutation) for permutation in indices_0_tuples]\n",
    "\n",
    "    indices_0_more_tuples = list(tuple(itertools.product([0,1], repeat=2*d-1)))\n",
    "    indices_0_more = [((0, ) + permutation) for permutation in indices_0_more_tuples]\n",
    "\n",
    "\n",
    "    indices_2_tuples = list(tuple(itertools.product([0,1], repeat=d-1)))\n",
    "    indices_2 = []\n",
    "    for i in range(d-1):\n",
    "        indices_begin = (0, )*(i+1) + (1, ) + (0,)*(d-i-1) \n",
    "        indices_2.extend([(indices_begin + permutation) for permutation in indices_2_tuples])\n",
    "    \n",
    "    indices_3_tuples = list(tuple(itertools.product([0,1], repeat=d)))\n",
    "    begin_tuple = tuple([0, ]*(d)) \n",
    "    indices_3 = [(begin_tuple + permutation) for permutation in indices_3_tuples]\n",
    "    \n",
    "    indices_3.extend(indices_2)\n",
    "\n",
    "    indices_0.extend(list(filter(lambda x: x not in indices_3, indices_0_more)))\n",
    "\n",
    "    for indices in indices_0:\n",
    "        psi[indices] = 0"
   ]
  },
  {
   "cell_type": "code",
   "execution_count": 5,
   "metadata": {},
   "outputs": [],
   "source": [
    "import time"
   ]
  },
  {
   "cell_type": "code",
   "execution_count": 73,
   "metadata": {},
   "outputs": [],
   "source": [
    "def generate_permutations(d):\n",
    "    final_permutations = []\n",
    "    valid_permutations = []\n",
    "    for perm in itertools.product([0, 1], repeat=d-1):\n",
    "        if sum(perm) <= 1:\n",
    "            valid_permutations.append(perm)\n",
    "        \n",
    "    combinations = [sum(combination, ()) for combination in itertools.product(valid_permutations, repeat=d-1)]\n",
    "    \n",
    "    final_permutations.append([(0, )*((d-1)*(d-1))])\n",
    "    final_permutations.append(combinations)\n",
    "    final_permutations.append(combinations)\n",
    "    return final_permutations\n",
    "\n",
    "def generate_indices_observables(d):\n",
    "    valid_permutations = []\n",
    "    for perm in itertools.product([0, 1], repeat=d):\n",
    "        if sum(perm) <= 1:\n",
    "            valid_permutations.append(perm)\n",
    "        \n",
    "    combinations = [sum(combination, ()) for combination in itertools.product(valid_permutations, repeat=2)]\n",
    "    return combinations"
   ]
  },
  {
   "cell_type": "code",
   "execution_count": 25,
   "metadata": {},
   "outputs": [],
   "source": [
    "def BP(d, mu=0, tol=1e-12, max_iter=10000, damping_parameter=0.8, verbose=0, init_psi=None):\n",
    "    shape = tuple([2] * d + [2] * d)\n",
    "    psi=np.zeros(shape)\n",
    "    indices_permutations = generate_indices(d)\n",
    "    indices_2, indices_3 = generate_indices_update(d)\n",
    "    if init_psi is None:\n",
    "        psi=np.random.uniform(size=shape)\n",
    "        initial_symmetries_update_psi(psi, d)\n",
    "        psi=psi/np.sum(psi)\n",
    "    else:\n",
    "        psi=init_psi.copy()\n",
    "    \n",
    "    permutations=generate_permutations(d)\n",
    "\n",
    "    # loop_start_time = time.time()\n",
    "    # permutations_time = 0\n",
    "    \n",
    "    for t in range(max_iter):\n",
    "        psi_new=np.zeros(shape)\n",
    "        for idx, indices in enumerate(indices_permutations):\n",
    "            i = indices[0]\n",
    "            i_neighbours = indices[1:d]\n",
    "            j = indices[d]\n",
    "            j_neighbours = indices[d+1:]\n",
    "            # part_start_time = time.time()\n",
    "            for perm in permutations[idx]:\n",
    "                mult = 1\n",
    "                if i == 1:\n",
    "                    if factor_function(i_neighbours, j, j_neighbours, perm)==0:\n",
    "                        continue\n",
    "                mult = multiply_messages(i, i_neighbours, j, perm, d, psi)\n",
    "                psi_new[indices] += np.exp(mu*i)*mult\n",
    "            # part_end_time = time.time()\n",
    "            # permutations_time += part_end_time - part_start_time\n",
    "        \n",
    "        update_psi_symmetries(psi_new, indices_2, indices_3, indices_permutations)\n",
    "                    \n",
    "        if np.sum(psi_new)!=0:\n",
    "            psi_new=psi_new/np.sum(psi_new)\n",
    "        else:\n",
    "            psi_new=np.ones(shape)/np.prod(shape)\n",
    "            print(\"Warning: psi_new is zero !\")\n",
    "        \n",
    "        psi_new=damping_parameter*psi+(1-damping_parameter)*psi_new\n",
    "        \n",
    "        Delta=np.linalg.norm(psi_new-psi)\n",
    "        if verbose==2 and t%100==0:\n",
    "            print(\"Iter : \", t+1, \" Delta : \", Delta)\n",
    "        psi=psi_new\n",
    "        if Delta<tol:\n",
    "            # loop_time = time.time() - loop_start_time\n",
    "            # print(\"loop time: \", loop_time)\n",
    "            # print(\"permutations time: \", permutations_time/loop_time*100, \"%\")\n",
    "            break\n",
    "    \n",
    "    if t==max_iter-1:\n",
    "        print(\"No convergence\"+\" ! Final error: \"+ str(Delta))\n",
    "    else:\n",
    "        if verbose>=1:\n",
    "            print(\"Converged ! Number of iteration \"+str(t))\n",
    "    \n",
    "    return psi"
   ]
  },
  {
   "cell_type": "code",
   "execution_count": 80,
   "metadata": {},
   "outputs": [
    {
     "ename": "KeyboardInterrupt",
     "evalue": "",
     "output_type": "error",
     "traceback": [
      "\u001b[0;31m---------------------------------------------------------------------------\u001b[0m",
      "\u001b[0;31mKeyboardInterrupt\u001b[0m                         Traceback (most recent call last)",
      "Cell \u001b[0;32mIn[80], line 1\u001b[0m\n\u001b[0;32m----> 1\u001b[0m test_messages \u001b[38;5;241m=\u001b[39m \u001b[43mBP\u001b[49m\u001b[43m(\u001b[49m\u001b[38;5;241;43m7\u001b[39;49m\u001b[43m,\u001b[49m\u001b[43m \u001b[49m\u001b[43mmu\u001b[49m\u001b[38;5;241;43m=\u001b[39;49m\u001b[38;5;241;43m6\u001b[39;49m\u001b[43m,\u001b[49m\u001b[43m \u001b[49m\u001b[43mtol\u001b[49m\u001b[38;5;241;43m=\u001b[39;49m\u001b[38;5;241;43m1e-12\u001b[39;49m\u001b[43m,\u001b[49m\u001b[43m \u001b[49m\u001b[43mmax_iter\u001b[49m\u001b[38;5;241;43m=\u001b[39;49m\u001b[38;5;241;43m300\u001b[39;49m\u001b[43m,\u001b[49m\u001b[43m \u001b[49m\u001b[43mdamping_parameter\u001b[49m\u001b[38;5;241;43m=\u001b[39;49m\u001b[38;5;241;43m0.6\u001b[39;49m\u001b[43m,\u001b[49m\u001b[43m \u001b[49m\u001b[43mverbose\u001b[49m\u001b[38;5;241;43m=\u001b[39;49m\u001b[38;5;241;43m0\u001b[39;49m\u001b[43m)\u001b[49m\n",
      "Cell \u001b[0;32mIn[25], line 31\u001b[0m, in \u001b[0;36mBP\u001b[0;34m(d, mu, tol, max_iter, damping_parameter, verbose, init_psi)\u001b[0m\n\u001b[1;32m     29\u001b[0m         \u001b[38;5;28;01mif\u001b[39;00m factor_function(i_neighbours, j, j_neighbours, perm)\u001b[38;5;241m==\u001b[39m\u001b[38;5;241m0\u001b[39m:\n\u001b[1;32m     30\u001b[0m             \u001b[38;5;28;01mcontinue\u001b[39;00m\n\u001b[0;32m---> 31\u001b[0m     mult \u001b[38;5;241m=\u001b[39m \u001b[43mmultiply_messages\u001b[49m\u001b[43m(\u001b[49m\u001b[43mi\u001b[49m\u001b[43m,\u001b[49m\u001b[43m \u001b[49m\u001b[43mi_neighbours\u001b[49m\u001b[43m,\u001b[49m\u001b[43m \u001b[49m\u001b[43mj\u001b[49m\u001b[43m,\u001b[49m\u001b[43m \u001b[49m\u001b[43mperm\u001b[49m\u001b[43m,\u001b[49m\u001b[43m \u001b[49m\u001b[43md\u001b[49m\u001b[43m,\u001b[49m\u001b[43m \u001b[49m\u001b[43mpsi\u001b[49m\u001b[43m)\u001b[49m\n\u001b[1;32m     32\u001b[0m     psi_new[indices] \u001b[38;5;241m+\u001b[39m\u001b[38;5;241m=\u001b[39m np\u001b[38;5;241m.\u001b[39mexp(mu\u001b[38;5;241m*\u001b[39mi)\u001b[38;5;241m*\u001b[39mmult\n\u001b[1;32m     33\u001b[0m \u001b[38;5;66;03m# part_end_time = time.time()\u001b[39;00m\n\u001b[1;32m     34\u001b[0m \u001b[38;5;66;03m# permutations_time += part_end_time - part_start_time\u001b[39;00m\n",
      "Cell \u001b[0;32mIn[3], line 4\u001b[0m, in \u001b[0;36mmultiply_messages\u001b[0;34m(i, i_neighbours, j, perm, d, psi)\u001b[0m\n\u001b[1;32m      2\u001b[0m mult \u001b[38;5;241m=\u001b[39m \u001b[38;5;241m1\u001b[39m\n\u001b[1;32m      3\u001b[0m \u001b[38;5;28;01mfor\u001b[39;00m k \u001b[38;5;129;01min\u001b[39;00m \u001b[38;5;28mrange\u001b[39m(d\u001b[38;5;241m-\u001b[39m\u001b[38;5;241m1\u001b[39m):\n\u001b[0;32m----> 4\u001b[0m     index \u001b[38;5;241m=\u001b[39m (i_neighbours[k],) \u001b[38;5;241m+\u001b[39m \u001b[38;5;28mtuple\u001b[39m(perm[k\u001b[38;5;241m*\u001b[39m(d\u001b[38;5;241m-\u001b[39m\u001b[38;5;241m1\u001b[39m):(k\u001b[38;5;241m+\u001b[39m\u001b[38;5;241m1\u001b[39m)\u001b[38;5;241m*\u001b[39m(d\u001b[38;5;241m-\u001b[39m\u001b[38;5;241m1\u001b[39m)]) \u001b[38;5;241m+\u001b[39m (i,) \u001b[38;5;241m+\u001b[39m (j,) \u001b[38;5;241m+\u001b[39m \u001b[38;5;28mtuple\u001b[39m(i_neighbours[:k]) \u001b[38;5;241m+\u001b[39m \u001b[38;5;28mtuple\u001b[39m(i_neighbours[k\u001b[38;5;241m+\u001b[39m\u001b[38;5;241m1\u001b[39m:])\n\u001b[1;32m      5\u001b[0m     mult \u001b[38;5;241m*\u001b[39m\u001b[38;5;241m=\u001b[39m psi[index]\n\u001b[1;32m      6\u001b[0m \u001b[38;5;28;01mreturn\u001b[39;00m mult\n",
      "\u001b[0;31mKeyboardInterrupt\u001b[0m: "
     ]
    }
   ],
   "source": [
    "test_messages = BP(7, mu=6, tol=1e-12, max_iter=300, damping_parameter=0.6, verbose=0)"
   ]
  },
  {
   "cell_type": "code",
   "execution_count": 34,
   "metadata": {},
   "outputs": [
    {
     "name": "stdout",
     "output_type": "stream",
     "text": [
      "[[[[[[[[0.021 0.021]\n",
      "       [0.021 0.021]]\n",
      "\n",
      "      [[0.021 0.021]\n",
      "       [0.021 0.021]]]\n",
      "\n",
      "\n",
      "     [[[0.021 0.021]\n",
      "       [0.021 0.021]]\n",
      "\n",
      "      [[0.021 0.021]\n",
      "       [0.021 0.021]]]]\n",
      "\n",
      "\n",
      "\n",
      "    [[[[0.023 0.023]\n",
      "       [0.023 0.023]]\n",
      "\n",
      "      [[0.023 0.023]\n",
      "       [0.023 0.023]]]\n",
      "\n",
      "\n",
      "     [[[0.    0.   ]\n",
      "       [0.    0.   ]]\n",
      "\n",
      "      [[0.    0.   ]\n",
      "       [0.    0.   ]]]]]\n",
      "\n",
      "\n",
      "\n",
      "\n",
      "   [[[[[0.023 0.023]\n",
      "       [0.023 0.023]]\n",
      "\n",
      "      [[0.023 0.023]\n",
      "       [0.023 0.023]]]\n",
      "\n",
      "\n",
      "     [[[0.    0.   ]\n",
      "       [0.    0.   ]]\n",
      "\n",
      "      [[0.    0.   ]\n",
      "       [0.    0.   ]]]]\n",
      "\n",
      "\n",
      "\n",
      "    [[[[0.    0.   ]\n",
      "       [0.    0.   ]]\n",
      "\n",
      "      [[0.    0.   ]\n",
      "       [0.    0.   ]]]\n",
      "\n",
      "\n",
      "     [[[0.    0.   ]\n",
      "       [0.    0.   ]]\n",
      "\n",
      "      [[0.    0.   ]\n",
      "       [0.    0.   ]]]]]]\n",
      "\n",
      "\n",
      "\n",
      "\n",
      "\n",
      "  [[[[[[0.023 0.023]\n",
      "       [0.023 0.023]]\n",
      "\n",
      "      [[0.023 0.023]\n",
      "       [0.023 0.023]]]\n",
      "\n",
      "\n",
      "     [[[0.    0.   ]\n",
      "       [0.    0.   ]]\n",
      "\n",
      "      [[0.    0.   ]\n",
      "       [0.    0.   ]]]]\n",
      "\n",
      "\n",
      "\n",
      "    [[[[0.    0.   ]\n",
      "       [0.    0.   ]]\n",
      "\n",
      "      [[0.    0.   ]\n",
      "       [0.    0.   ]]]\n",
      "\n",
      "\n",
      "     [[[0.    0.   ]\n",
      "       [0.    0.   ]]\n",
      "\n",
      "      [[0.    0.   ]\n",
      "       [0.    0.   ]]]]]\n",
      "\n",
      "\n",
      "\n",
      "\n",
      "   [[[[[0.    0.   ]\n",
      "       [0.    0.   ]]\n",
      "\n",
      "      [[0.    0.   ]\n",
      "       [0.    0.   ]]]\n",
      "\n",
      "\n",
      "     [[[0.    0.   ]\n",
      "       [0.    0.   ]]\n",
      "\n",
      "      [[0.    0.   ]\n",
      "       [0.    0.   ]]]]\n",
      "\n",
      "\n",
      "\n",
      "    [[[[0.    0.   ]\n",
      "       [0.    0.   ]]\n",
      "\n",
      "      [[0.    0.   ]\n",
      "       [0.    0.   ]]]\n",
      "\n",
      "\n",
      "     [[[0.    0.   ]\n",
      "       [0.    0.   ]]\n",
      "\n",
      "      [[0.    0.   ]\n",
      "       [0.    0.   ]]]]]]]\n",
      "\n",
      "\n",
      "\n",
      "\n",
      "\n",
      "\n",
      " [[[[[[[0.102 0.   ]\n",
      "       [0.    0.   ]]\n",
      "\n",
      "      [[0.    0.   ]\n",
      "       [0.    0.   ]]]\n",
      "\n",
      "\n",
      "     [[[0.    0.   ]\n",
      "       [0.    0.   ]]\n",
      "\n",
      "      [[0.    0.   ]\n",
      "       [0.    0.   ]]]]\n",
      "\n",
      "\n",
      "\n",
      "    [[[[0.    0.   ]\n",
      "       [0.    0.   ]]\n",
      "\n",
      "      [[0.    0.   ]\n",
      "       [0.    0.   ]]]\n",
      "\n",
      "\n",
      "     [[[0.    0.   ]\n",
      "       [0.    0.   ]]\n",
      "\n",
      "      [[0.    0.   ]\n",
      "       [0.    0.   ]]]]]\n",
      "\n",
      "\n",
      "\n",
      "\n",
      "   [[[[[0.    0.   ]\n",
      "       [0.    0.   ]]\n",
      "\n",
      "      [[0.    0.   ]\n",
      "       [0.    0.   ]]]\n",
      "\n",
      "\n",
      "     [[[0.    0.   ]\n",
      "       [0.    0.   ]]\n",
      "\n",
      "      [[0.    0.   ]\n",
      "       [0.    0.   ]]]]\n",
      "\n",
      "\n",
      "\n",
      "    [[[[0.    0.   ]\n",
      "       [0.    0.   ]]\n",
      "\n",
      "      [[0.    0.   ]\n",
      "       [0.    0.   ]]]\n",
      "\n",
      "\n",
      "     [[[0.    0.   ]\n",
      "       [0.    0.   ]]\n",
      "\n",
      "      [[0.    0.   ]\n",
      "       [0.    0.   ]]]]]]\n",
      "\n",
      "\n",
      "\n",
      "\n",
      "\n",
      "  [[[[[[0.    0.   ]\n",
      "       [0.    0.   ]]\n",
      "\n",
      "      [[0.    0.   ]\n",
      "       [0.    0.   ]]]\n",
      "\n",
      "\n",
      "     [[[0.    0.   ]\n",
      "       [0.    0.   ]]\n",
      "\n",
      "      [[0.    0.   ]\n",
      "       [0.    0.   ]]]]\n",
      "\n",
      "\n",
      "\n",
      "    [[[[0.    0.   ]\n",
      "       [0.    0.   ]]\n",
      "\n",
      "      [[0.    0.   ]\n",
      "       [0.    0.   ]]]\n",
      "\n",
      "\n",
      "     [[[0.    0.   ]\n",
      "       [0.    0.   ]]\n",
      "\n",
      "      [[0.    0.   ]\n",
      "       [0.    0.   ]]]]]\n",
      "\n",
      "\n",
      "\n",
      "\n",
      "   [[[[[0.    0.   ]\n",
      "       [0.    0.   ]]\n",
      "\n",
      "      [[0.    0.   ]\n",
      "       [0.    0.   ]]]\n",
      "\n",
      "\n",
      "     [[[0.    0.   ]\n",
      "       [0.    0.   ]]\n",
      "\n",
      "      [[0.    0.   ]\n",
      "       [0.    0.   ]]]]\n",
      "\n",
      "\n",
      "\n",
      "    [[[[0.    0.   ]\n",
      "       [0.    0.   ]]\n",
      "\n",
      "      [[0.    0.   ]\n",
      "       [0.    0.   ]]]\n",
      "\n",
      "\n",
      "     [[[0.    0.   ]\n",
      "       [0.    0.   ]]\n",
      "\n",
      "      [[0.    0.   ]\n",
      "       [0.    0.   ]]]]]]]]\n"
     ]
    }
   ],
   "source": [
    "print(np.round(test_messages,3))"
   ]
  },
  {
   "cell_type": "code",
   "execution_count": 67,
   "metadata": {},
   "outputs": [],
   "source": [
    "def update_observables(psi, mu, d=3):\n",
    "        phi_=0\n",
    "        phi__=0\n",
    "\n",
    "        permutations=generate_permutations(d)[1]\n",
    "        indices_permutations = list(generate_indices_observables(d))\n",
    "        \n",
    "        numerator=0\n",
    "        \n",
    "        for indices in indices_permutations:\n",
    "            i = indices[0]\n",
    "            i_neighbours = indices[1:d]\n",
    "            j = indices[d]\n",
    "            j_neighbours = indices[d+1:]\n",
    "            for perm in permutations:\n",
    "                mult=1\n",
    "                if i==1:\n",
    "                    if factor_function(i_neighbours, j, j_neighbours, perm)==0:\n",
    "                        continue\n",
    "                mult=multiply_messages(i, i_neighbours, j, perm, d, psi)\n",
    "                last_message_idx = (j,) + tuple(j_neighbours) + (i,) + tuple(i_neighbours)\n",
    "                mult*=psi[last_message_idx]\n",
    "                phi_+=np.exp(mu*i)*mult\n",
    "                numerator+=i*mult*np.exp(mu*i)\n",
    "                \n",
    "            entropy_idx_left = (i,) + tuple(i_neighbours) + (j,) + tuple(j_neighbours)\n",
    "            entropy_idx_right = (j,) + tuple(j_neighbours) + (i,) + tuple(i_neighbours)\n",
    "            phi__+=psi[entropy_idx_left]*psi[entropy_idx_right]\n",
    "\n",
    "        if phi_==0:\n",
    "            phi_=1e-16\n",
    "        if phi__==0:\n",
    "            phi__=1e-16\n",
    "        phi=np.log(phi_)-d/2*np.log(phi__)\n",
    "\n",
    "        if numerator==0:\n",
    "            rho=0\n",
    "        else:\n",
    "            rho=numerator/phi_\n",
    "            \n",
    "        s=phi-mu*rho\n",
    "\n",
    "        return phi, rho, s"
   ]
  },
  {
   "cell_type": "code",
   "execution_count": 52,
   "metadata": {},
   "outputs": [],
   "source": [
    "def update_observables_diagnostic(psi, mu, d=3):\n",
    "        dictionary_updates = {}\n",
    "        phi_=0\n",
    "        phi__=0\n",
    "\n",
    "        permutations=generate_permutations(d)[1]\n",
    "        indices_permutations = list(itertools.product([0,1], repeat=d*2))\n",
    "        \n",
    "        numerator=0\n",
    "        \n",
    "        for indices in indices_permutations:\n",
    "            i = indices[0]\n",
    "            i_neighbours = indices[1:d]\n",
    "            j = indices[d]\n",
    "            j_neighbours = indices[d+1:]\n",
    "            perm_phi = 0\n",
    "            for perm in permutations:\n",
    "                mult=1\n",
    "                if i==1:\n",
    "                    if factor_function(i_neighbours, j, j_neighbours, perm)==0:\n",
    "                        continue\n",
    "                mult=multiply_messages(i, i_neighbours, j, perm, d, psi)\n",
    "                last_message_idx = (j,) + tuple(j_neighbours) + (i,) + tuple(i_neighbours)\n",
    "                mult*=psi[last_message_idx]\n",
    "                perm_phi+=np.exp(mu*i)*mult\n",
    "                numerator+=i*mult*np.exp(mu*i)\n",
    "            phi_+=perm_phi\n",
    "                \n",
    "            entropy_idx_left = (i,) + tuple(i_neighbours) + (j,) + tuple(j_neighbours)\n",
    "            entropy_idx_right = (j,) + tuple(j_neighbours) + (i,) + tuple(i_neighbours)\n",
    "            perm_phi__=psi[entropy_idx_left]*psi[entropy_idx_right]\n",
    "            phi__+=perm_phi__\n",
    "            dictionary_updates[indices] = (perm_phi, perm_phi__)\n",
    "\n",
    "        if phi_==0:\n",
    "            phi_=1e-16\n",
    "        if phi__==0:\n",
    "            phi__=1e-16\n",
    "        phi=np.log(phi_)-d/2*np.log(phi__)\n",
    "\n",
    "        if numerator==0:\n",
    "            rho=0\n",
    "        else:\n",
    "            rho=numerator/phi_\n",
    "            \n",
    "        s=phi-mu*rho\n",
    "\n",
    "        return phi, rho, s, dictionary_updates"
   ]
  },
  {
   "cell_type": "code",
   "execution_count": 75,
   "metadata": {},
   "outputs": [
    {
     "name": "stderr",
     "output_type": "stream",
     "text": [
      "100%|██████████| 100/100 [00:00<00:00, 226.85it/s]\n"
     ]
    }
   ],
   "source": [
    "mu_space = np.linspace(0, 10, 100)\n",
    "d = 3\n",
    "phi_list = []\n",
    "rho_list = []\n",
    "s_list = []\n",
    "for mu in tqdm(mu_space):\n",
    "    psi = BP(d, mu=mu, verbose=0, max_iter=500, tol=1e-12, damping_parameter=0.7, init_psi=None)\n",
    "    phi, rho, s = update_observables(psi, mu, d)\n",
    "    phi_list.append(phi)\n",
    "    rho_list.append(rho)\n",
    "    s_list.append(s)"
   ]
  },
  {
   "cell_type": "code",
   "execution_count": 76,
   "metadata": {},
   "outputs": [
    {
     "data": {
      "image/png": "[encoded data removed]",
      "text/plain": [
       "<Figure size 640x480 with 1 Axes>"
      ]
     },
     "metadata": {},
     "output_type": "display_data"
    }
   ],
   "source": [
    "plt.plot(mu_space, rho_list, label='rho')\n",
    "plt.plot(mu_space, s_list, label='s')\n",
    "plt.xlabel('mu')\n",
    "plt.legend()\n",
    "plt.show()"
   ]
  },
  {
   "cell_type": "code",
   "execution_count": 20,
   "metadata": {},
   "outputs": [],
   "source": [
    "def find_zero_bisection(arr):\n",
    "    # Function to find zero using bisection method\n",
    "    left = 0\n",
    "    right = len(arr) - 1\n",
    "    if(arr[left]*arr[right] > 0):\n",
    "        print(\"No zero crossing found\")\n",
    "        return -1\n",
    "\n",
    "    while right - left > 1:\n",
    "        mid = (left + right) // 2\n",
    "        if arr[mid] == 0:\n",
    "            return mid  # Zero found at index 'mid'\n",
    "        elif arr[mid] * arr[left] < 0:\n",
    "            right = mid\n",
    "        else:\n",
    "            left = mid\n",
    "\n",
    "    # If exact zero not found, return the index closest to zero\n",
    "    return left if abs(arr[left]) < abs(arr[right]) else right"
   ]
  },
  {
   "cell_type": "code",
   "execution_count": 77,
   "metadata": {},
   "outputs": [],
   "source": [
    "def complete_run(d, mu_space, verbose=0, max_iter=10000, damping_parameter=0.8):\n",
    "    phi_list = []\n",
    "    rho_list = []\n",
    "    s_list = []\n",
    "    for mu in mu_space:\n",
    "        psi = BP(d, mu=mu, verbose=verbose, max_iter=max_iter, damping_parameter=damping_parameter)\n",
    "        phi, rho, s = update_observables(psi, mu, d)\n",
    "        phi_list.append(phi)\n",
    "        rho_list.append(rho)\n",
    "        s_list.append(s)\n",
    "\n",
    "    zero_index = find_zero_bisection(s_list)\n",
    "    if zero_index == -1:\n",
    "        return -1\n",
    "    return rho_list[zero_index]"
   ]
  },
  {
   "cell_type": "code",
   "execution_count": 12,
   "metadata": {},
   "outputs": [
    {
     "name": "stdout",
     "output_type": "stream",
     "text": [
      "No zero crossing found\n",
      "No zero crossing found\n",
      "0.09862185251373098\n"
     ]
    }
   ],
   "source": [
    "find_zero_bisection(s_list)\n",
    "print(rho_list[find_zero_bisection(s_list)])"
   ]
  },
  {
   "cell_type": "code",
   "execution_count": 78,
   "metadata": {},
   "outputs": [
    {
     "name": "stderr",
     "output_type": "stream",
     "text": [
      " 25%|██▌       | 1/4 [00:00<00:01,  2.26it/s]"
     ]
    },
    {
     "name": "stdout",
     "output_type": "stream",
     "text": [
      "Densest packing for d =  3  is  0.23549031862994843\n"
     ]
    },
    {
     "name": "stderr",
     "output_type": "stream",
     "text": [
      " 50%|█████     | 2/4 [00:03<00:03,  1.82s/it]"
     ]
    },
    {
     "name": "stdout",
     "output_type": "stream",
     "text": [
      "Densest packing for d =  4  is  0.17566046601246388\n"
     ]
    },
    {
     "name": "stderr",
     "output_type": "stream",
     "text": [
      " 75%|███████▌  | 3/4 [00:42<00:18, 18.82s/it]"
     ]
    },
    {
     "name": "stdout",
     "output_type": "stream",
     "text": [
      "Densest packing for d =  5  is  0.13663992626378305\n"
     ]
    },
    {
     "name": "stderr",
     "output_type": "stream",
     "text": [
      "100%|██████████| 4/4 [12:42<00:00, 190.53s/it]"
     ]
    },
    {
     "name": "stdout",
     "output_type": "stream",
     "text": [
      "Densest packing for d =  6  is  0.10993254841273546\n"
     ]
    },
    {
     "name": "stderr",
     "output_type": "stream",
     "text": [
      "\n"
     ]
    }
   ],
   "source": [
    "# d_list = [4, 5, 6, 7]\n",
    "d_list = [3,4,5,6]\n",
    "densest_packings = {}\n",
    "mu_space = np.linspace(3, 9, 100)\n",
    "for d in tqdm(d_list):\n",
    "    densest_packings[d] = complete_run(d, mu_space, max_iter=10000, damping_parameter=0.7)\n",
    "    print(\"Densest packing for d = \", d, \" is \", densest_packings[d])"
   ]
  },
  {
   "cell_type": "code",
   "execution_count": 79,
   "metadata": {},
   "outputs": [
    {
     "name": "stderr",
     "output_type": "stream",
     "text": [
      "  0%|          | 0/1 [10:00:34<?, ?it/s]\n"
     ]
    },
    {
     "ename": "KeyboardInterrupt",
     "evalue": "",
     "output_type": "error",
     "traceback": [
      "\u001b[0;31m---------------------------------------------------------------------------\u001b[0m",
      "\u001b[0;31mKeyboardInterrupt\u001b[0m                         Traceback (most recent call last)",
      "Cell \u001b[0;32mIn[79], line 5\u001b[0m\n\u001b[1;32m      3\u001b[0m mu_space \u001b[38;5;241m=\u001b[39m np\u001b[38;5;241m.\u001b[39mlinspace(\u001b[38;5;241m3\u001b[39m, \u001b[38;5;241m9\u001b[39m, \u001b[38;5;241m100\u001b[39m)\n\u001b[1;32m      4\u001b[0m \u001b[38;5;28;01mfor\u001b[39;00m d \u001b[38;5;129;01min\u001b[39;00m tqdm(d_list):\n\u001b[0;32m----> 5\u001b[0m     densest_packings[d] \u001b[38;5;241m=\u001b[39m \u001b[43mcomplete_run\u001b[49m\u001b[43m(\u001b[49m\u001b[43md\u001b[49m\u001b[43m,\u001b[49m\u001b[43m \u001b[49m\u001b[43mmu_space\u001b[49m\u001b[43m,\u001b[49m\u001b[43m \u001b[49m\u001b[43mmax_iter\u001b[49m\u001b[38;5;241;43m=\u001b[39;49m\u001b[38;5;241;43m10000\u001b[39;49m\u001b[43m,\u001b[49m\u001b[43m \u001b[49m\u001b[43mdamping_parameter\u001b[49m\u001b[38;5;241;43m=\u001b[39;49m\u001b[38;5;241;43m0.7\u001b[39;49m\u001b[43m)\u001b[49m\n\u001b[1;32m      6\u001b[0m     \u001b[38;5;28mprint\u001b[39m(\u001b[38;5;124m\"\u001b[39m\u001b[38;5;124mDensest packing for d = \u001b[39m\u001b[38;5;124m\"\u001b[39m, d, \u001b[38;5;124m\"\u001b[39m\u001b[38;5;124m is \u001b[39m\u001b[38;5;124m\"\u001b[39m, densest_packings[d])\n",
      "Cell \u001b[0;32mIn[77], line 6\u001b[0m, in \u001b[0;36mcomplete_run\u001b[0;34m(d, mu_space, verbose, max_iter, damping_parameter)\u001b[0m\n\u001b[1;32m      4\u001b[0m s_list \u001b[38;5;241m=\u001b[39m []\n\u001b[1;32m      5\u001b[0m \u001b[38;5;28;01mfor\u001b[39;00m mu \u001b[38;5;129;01min\u001b[39;00m mu_space:\n\u001b[0;32m----> 6\u001b[0m     psi \u001b[38;5;241m=\u001b[39m \u001b[43mBP\u001b[49m\u001b[43m(\u001b[49m\u001b[43md\u001b[49m\u001b[43m,\u001b[49m\u001b[43m \u001b[49m\u001b[43mmu\u001b[49m\u001b[38;5;241;43m=\u001b[39;49m\u001b[43mmu\u001b[49m\u001b[43m,\u001b[49m\u001b[43m \u001b[49m\u001b[43mverbose\u001b[49m\u001b[38;5;241;43m=\u001b[39;49m\u001b[43mverbose\u001b[49m\u001b[43m,\u001b[49m\u001b[43m \u001b[49m\u001b[43mmax_iter\u001b[49m\u001b[38;5;241;43m=\u001b[39;49m\u001b[43mmax_iter\u001b[49m\u001b[43m,\u001b[49m\u001b[43m \u001b[49m\u001b[43mdamping_parameter\u001b[49m\u001b[38;5;241;43m=\u001b[39;49m\u001b[43mdamping_parameter\u001b[49m\u001b[43m)\u001b[49m\n\u001b[1;32m      7\u001b[0m     phi, rho, s \u001b[38;5;241m=\u001b[39m update_observables(psi, mu, d)\n\u001b[1;32m      8\u001b[0m     phi_list\u001b[38;5;241m.\u001b[39mappend(phi)\n",
      "Cell \u001b[0;32mIn[25], line 31\u001b[0m, in \u001b[0;36mBP\u001b[0;34m(d, mu, tol, max_iter, damping_parameter, verbose, init_psi)\u001b[0m\n\u001b[1;32m     29\u001b[0m         \u001b[38;5;28;01mif\u001b[39;00m factor_function(i_neighbours, j, j_neighbours, perm)\u001b[38;5;241m==\u001b[39m\u001b[38;5;241m0\u001b[39m:\n\u001b[1;32m     30\u001b[0m             \u001b[38;5;28;01mcontinue\u001b[39;00m\n\u001b[0;32m---> 31\u001b[0m     mult \u001b[38;5;241m=\u001b[39m \u001b[43mmultiply_messages\u001b[49m\u001b[43m(\u001b[49m\u001b[43mi\u001b[49m\u001b[43m,\u001b[49m\u001b[43m \u001b[49m\u001b[43mi_neighbours\u001b[49m\u001b[43m,\u001b[49m\u001b[43m \u001b[49m\u001b[43mj\u001b[49m\u001b[43m,\u001b[49m\u001b[43m \u001b[49m\u001b[43mperm\u001b[49m\u001b[43m,\u001b[49m\u001b[43m \u001b[49m\u001b[43md\u001b[49m\u001b[43m,\u001b[49m\u001b[43m \u001b[49m\u001b[43mpsi\u001b[49m\u001b[43m)\u001b[49m\n\u001b[1;32m     32\u001b[0m     psi_new[indices] \u001b[38;5;241m+\u001b[39m\u001b[38;5;241m=\u001b[39m np\u001b[38;5;241m.\u001b[39mexp(mu\u001b[38;5;241m*\u001b[39mi)\u001b[38;5;241m*\u001b[39mmult\n\u001b[1;32m     33\u001b[0m \u001b[38;5;66;03m# part_end_time = time.time()\u001b[39;00m\n\u001b[1;32m     34\u001b[0m \u001b[38;5;66;03m# permutations_time += part_end_time - part_start_time\u001b[39;00m\n",
      "Cell \u001b[0;32mIn[3], line 5\u001b[0m, in \u001b[0;36mmultiply_messages\u001b[0;34m(i, i_neighbours, j, perm, d, psi)\u001b[0m\n\u001b[1;32m      3\u001b[0m \u001b[38;5;28;01mfor\u001b[39;00m k \u001b[38;5;129;01min\u001b[39;00m \u001b[38;5;28mrange\u001b[39m(d\u001b[38;5;241m-\u001b[39m\u001b[38;5;241m1\u001b[39m):\n\u001b[1;32m      4\u001b[0m     index \u001b[38;5;241m=\u001b[39m (i_neighbours[k],) \u001b[38;5;241m+\u001b[39m \u001b[38;5;28mtuple\u001b[39m(perm[k\u001b[38;5;241m*\u001b[39m(d\u001b[38;5;241m-\u001b[39m\u001b[38;5;241m1\u001b[39m):(k\u001b[38;5;241m+\u001b[39m\u001b[38;5;241m1\u001b[39m)\u001b[38;5;241m*\u001b[39m(d\u001b[38;5;241m-\u001b[39m\u001b[38;5;241m1\u001b[39m)]) \u001b[38;5;241m+\u001b[39m (i,) \u001b[38;5;241m+\u001b[39m (j,) \u001b[38;5;241m+\u001b[39m \u001b[38;5;28mtuple\u001b[39m(i_neighbours[:k]) \u001b[38;5;241m+\u001b[39m \u001b[38;5;28mtuple\u001b[39m(i_neighbours[k\u001b[38;5;241m+\u001b[39m\u001b[38;5;241m1\u001b[39m:])\n\u001b[0;32m----> 5\u001b[0m     mult \u001b[38;5;241m*\u001b[39m\u001b[38;5;241m=\u001b[39m psi[index]\n\u001b[1;32m      6\u001b[0m \u001b[38;5;28;01mreturn\u001b[39;00m mult\n",
      "\u001b[0;31mKeyboardInterrupt\u001b[0m: "
     ]
    }
   ],
   "source": [
    "d_list = [7]\n",
    "densest_packings = {}\n",
    "mu_space = np.linspace(3, 9, 100)\n",
    "for d in tqdm(d_list):\n",
    "    densest_packings[d] = complete_run(d, mu_space, max_iter=10000, damping_parameter=0.7)\n",
    "    print(\"Densest packing for d = \", d, \" is \", densest_packings[d])"
   ]
  },
  {
   "cell_type": "code",
   "execution_count": null,
   "metadata": {},
   "outputs": [
    {
     "name": "stdout",
     "output_type": "stream",
     "text": [
      "{3: 0.23548975165587643}\n"
     ]
    }
   ],
   "source": [
    "print(densest_packings)"
   ]
  },
  {
   "cell_type": "markdown",
   "metadata": {},
   "source": [
    "Stability Analysis"
   ]
  },
  {
   "cell_type": "code",
   "execution_count": null,
   "metadata": {},
   "outputs": [],
   "source": [
    "\n",
    "    "
   ]
  }
 ],
 "metadata": {
  "kernelspec": {
   "display_name": "Python 3",
   "language": "python",
   "name": "python3"
  },
  "language_info": {
   "codemirror_mode": {
    "name": "ipython",
    "version": 3
   },
   "file_extension": ".py",
   "mimetype": "text/x-python",
   "name": "python",
   "nbconvert_exporter": "python",
   "pygments_lexer": "ipython3",
   "version": "3.11.4"
  }
 },
 "nbformat": 4,
 "nbformat_minor": 2
}
