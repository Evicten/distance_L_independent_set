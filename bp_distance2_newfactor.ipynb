{
 "cells": [
  {
   "cell_type": "code",
   "execution_count": 1,
   "metadata": {},
   "outputs": [],
   "source": [
    "import numpy as np\n",
    "import matplotlib.pyplot as plt\n",
    "import itertools\n",
    "from tqdm import tqdm"
   ]
  },
  {
   "cell_type": "code",
   "execution_count": 2,
   "metadata": {},
   "outputs": [],
   "source": [
    "def factor_function(sigma_i, sigma_j, permutation, d):\n",
    "    final = 1\n",
    "    permutation = np.insert(permutation, 0, sigma_j)\n",
    "    for j in range(d):\n",
    "        if permutation[j]==1:\n",
    "            if sigma_i + np.sum(permutation) - permutation[j] == 0:\n",
    "                final *= 1\n",
    "            else:\n",
    "                final *= 0\n",
    "        if final == 0:\n",
    "            return 0\n",
    "    return final"
   ]
  },
  {
   "cell_type": "code",
   "execution_count": 3,
   "metadata": {},
   "outputs": [],
   "source": [
    "def BP(d, mu=0, tol=1e-12, max_iter=10000, damping_parameter=0.5, verbose=0, init_psi=None):\n",
    "    psi=np.zeros((2,2))\n",
    "    if init_psi is None:\n",
    "        psi=np.random.uniform(size=(2,2))\n",
    "        psi=psi/np.sum(psi)\n",
    "    else:\n",
    "        psi=init_psi.copy()\n",
    "    \n",
    "    permutations=np.array(list(itertools.product([0,1], repeat=d-1)))\n",
    "    \n",
    "    for t in range(max_iter):\n",
    "        psi_new=np.zeros((2,2))\n",
    "        for i in range(2):\n",
    "            for j in range(2):\n",
    "                for perm in permutations:\n",
    "                    mult=1\n",
    "                    if factor_function(i, j, perm, d)==0:\n",
    "                        continue\n",
    "                    for k in perm:\n",
    "                        mult*=psi[k,i]\n",
    "                    psi_new[i,j]+=np.exp(mu*i)*mult\n",
    "                    \n",
    "        if np.sum(psi_new)!=0:\n",
    "            psi_new=psi_new/np.sum(psi_new)\n",
    "        else:\n",
    "            psi_new=np.array([[0.25, 0.25],[0.25, 0.25]])\n",
    "        \n",
    "        psi_new=damping_parameter*psi+(1-damping_parameter)*psi_new\n",
    "        \n",
    "        Delta=np.linalg.norm(psi_new-psi)\n",
    "        if verbose==2 and t%100==0:\n",
    "            print(\"Iter : \", t+1, \" Delta : \", Delta)\n",
    "        psi=psi_new\n",
    "        if Delta<tol:\n",
    "            break\n",
    "    \n",
    "    if t==max_iter-1:\n",
    "        print(\"No convergence\"+\" ! Final error: \"+ str(Delta))\n",
    "    else:\n",
    "        if verbose>=1:\n",
    "            print(\"Converged ! Number of iteration \"+str(t))\n",
    "    \n",
    "    return psi"
   ]
  },
  {
   "cell_type": "code",
   "execution_count": 35,
   "metadata": {},
   "outputs": [],
   "source": [
    "def update_observables(psi, mu, d):\n",
    "        phi_=0\n",
    "        phi__=0\n",
    "        permutations=np.array(list(itertools.product([0,1], repeat=d-1)))\n",
    "        numerator=0\n",
    "        for i in range(2):\n",
    "            for j in range(2):\n",
    "                for perm in permutations:\n",
    "                    if factor_function(i, j, perm, d)==0:\n",
    "                        continue\n",
    "                    mult=psi[j,i]\n",
    "                    for k in perm:\n",
    "                        mult*=psi[k,i]\n",
    "                    phi_+=np.exp(mu*i)*mult\n",
    "                    numerator+=i*np.exp(mu*i)*mult\n",
    "                phi__+=psi[i,j]*psi[j,i]\n",
    "\n",
    "        if phi_==0:\n",
    "            phi_=1e-16\n",
    "        if phi__==0:\n",
    "            phi__=1e-16\n",
    "        phi=np.log(phi_)-d/2*np.log(phi__)\n",
    "\n",
    "        if numerator==0:\n",
    "            rho=0\n",
    "        else:\n",
    "            rho=numerator/phi_\n",
    "            \n",
    "        s=phi-mu*rho\n",
    "\n",
    "        return phi, rho, s\n",
    "\n",
    "##to confirm at the end\n",
    "def density_numerical(phi_list, mu_list):\n",
    "    N=phi_list.size\n",
    "    rho=np.zeros(N-1)\n",
    "    for i in range(N-1):\n",
    "        rho[i]=(phi_list[i+1]-phi_list[i])/(mu_list[i+1]-mu_list[i])\n",
    "    return rho"
   ]
  },
  {
   "cell_type": "code",
   "execution_count": 36,
   "metadata": {},
   "outputs": [],
   "source": [
    "mu_space = np.linspace(-6, 12, 200)\n",
    "d = 3\n",
    "phi_list = []\n",
    "rho_list = []\n",
    "s_list = []\n",
    "for mu in mu_space:\n",
    "    psi = BP(d, mu=mu, verbose=0)\n",
    "    phi, rho, s = update_observables(psi, mu, d)\n",
    "    phi_list.append(phi)\n",
    "    rho_list.append(rho)\n",
    "    s_list.append(s)"
   ]
  },
  {
   "cell_type": "code",
   "execution_count": 37,
   "metadata": {},
   "outputs": [
    {
     "data": {
      "image/png": "[encoded data removed]",
      "text/plain": [
       "<Figure size 640x480 with 1 Axes>"
      ]
     },
     "metadata": {},
     "output_type": "display_data"
    }
   ],
   "source": [
    "plt.plot(mu_space, rho_list, label='rho')\n",
    "plt.plot(mu_space, s_list, label='s')\n",
    "plt.xlabel('mu')\n",
    "plt.legend()\n",
    "plt.show()"
   ]
  },
  {
   "cell_type": "code",
   "execution_count": 17,
   "metadata": {},
   "outputs": [],
   "source": [
    "def find_zero_bisection(arr):\n",
    "    # Function to find zero using bisection method\n",
    "    left = 0\n",
    "    right = len(arr) - 1\n",
    "    if(arr[left]*arr[right] > 0):\n",
    "        print(\"No zero crossing found\")\n",
    "        return -1\n",
    "\n",
    "    while right - left > 1:\n",
    "        mid = (left + right) // 2\n",
    "        if arr[mid] == 0:\n",
    "            return mid  # Zero found at index 'mid'\n",
    "        elif arr[mid] * arr[left] < 0:\n",
    "            right = mid\n",
    "        else:\n",
    "            left = mid\n",
    "\n",
    "    # If exact zero not found, return the index closest to zero\n",
    "    return left if abs(arr[left]) < abs(arr[right]) else right"
   ]
  },
  {
   "cell_type": "code",
   "execution_count": 18,
   "metadata": {},
   "outputs": [
    {
     "name": "stdout",
     "output_type": "stream",
     "text": [
      "155\n"
     ]
    }
   ],
   "source": [
    "print(find_zero_bisection(s_list))"
   ]
  },
  {
   "cell_type": "code",
   "execution_count": 26,
   "metadata": {},
   "outputs": [],
   "source": [
    "def complete_run(d, mu_space, verbose=0, max_iter=100000, damping_parameter=0.8):\n",
    "    phi_list = []\n",
    "    rho_list = []\n",
    "    s_list = []\n",
    "    for mu in mu_space:\n",
    "        psi = BP(d, mu=mu, verbose=verbose, max_iter=max_iter, damping_parameter=damping_parameter)\n",
    "        phi, rho, s = update_observables(psi, mu, d)\n",
    "        phi_list.append(phi)\n",
    "        rho_list.append(rho)\n",
    "        s_list.append(s)\n",
    "\n",
    "    zero_index = find_zero_bisection(s_list)\n",
    "    if zero_index == -1:\n",
    "        return -1\n",
    "    return rho_list[zero_index]"
   ]
  },
  {
   "cell_type": "code",
   "execution_count": 29,
   "metadata": {},
   "outputs": [
    {
     "name": "stderr",
     "output_type": "stream",
     "text": [
      "100%|██████████| 2/2 [13:41<00:00, 410.74s/it]\n"
     ]
    }
   ],
   "source": [
    "d_list = [9, 10]\n",
    "densest_packings = {}\n",
    "mu_space = np.linspace(2, 10, 200)\n",
    "for d in tqdm(d_list):\n",
    "    densest_packings[d] = complete_run(d, mu_space)"
   ]
  },
  {
   "cell_type": "code",
   "execution_count": 30,
   "metadata": {},
   "outputs": [
    {
     "name": "stdout",
     "output_type": "stream",
     "text": [
      "{9: 0.06496795358948015, 10: 0.056271843871893164}\n"
     ]
    }
   ],
   "source": [
    "print(densest_packings)"
   ]
  },
  {
   "cell_type": "code",
   "execution_count": null,
   "metadata": {},
   "outputs": [],
   "source": []
  }
 ],
 "metadata": {
  "kernelspec": {
   "display_name": "Python 3",
   "language": "python",
   "name": "python3"
  },
  "language_info": {
   "codemirror_mode": {
    "name": "ipython",
    "version": 3
   },
   "file_extension": ".py",
   "mimetype": "text/x-python",
   "name": "python",
   "nbconvert_exporter": "python",
   "pygments_lexer": "ipython3",
   "version": "3.11.4"
  }
 },
 "nbformat": 4,
 "nbformat_minor": 2
}
