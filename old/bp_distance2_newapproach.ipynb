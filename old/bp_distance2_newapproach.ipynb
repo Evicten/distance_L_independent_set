{
 "cells": [
  {
   "cell_type": "code",
   "execution_count": 1,
   "metadata": {},
   "outputs": [],
   "source": [
    "import numpy as np\n",
    "import matplotlib.pyplot as plt\n",
    "import itertools\n",
    "from tqdm import tqdm"
   ]
  },
  {
   "cell_type": "code",
   "execution_count": 11,
   "metadata": {},
   "outputs": [],
   "source": [
    "def factor_function(sigma_i, i_neighbour, i_neighbour2, sigma_j, j_neighbour, j_neighbour2, permutation, d):\n",
    "    final = 1\n",
    "    total = 0\n",
    "    \n",
    "    if sigma_i == 1:\n",
    "        total = sigma_j + j_neighbour + j_neighbour2 + i_neighbour + i_neighbour2 + np.sum(permutation)\n",
    "        if total == 0:\n",
    "            final *= 1\n",
    "        else:\n",
    "            return 0\n",
    "    \n",
    "    # if sigma_i == 0:\n",
    "    #     if np.sum(first_neighbours) > 1:\n",
    "    #         return 0\n",
    "    #     for idx, neighbours in enumerate(second_neighbours):\n",
    "    #         if np.sum(neighbours) + first_neighbours[idx] > 1:\n",
    "    #             return 0\n",
    "    \n",
    "    return final"
   ]
  },
  {
   "cell_type": "code",
   "execution_count": 12,
   "metadata": {},
   "outputs": [],
   "source": [
    "def BP(d, mu=0, tol=1e-12, max_iter=10000, damping_parameter=0.8, verbose=0, init_psi=None):\n",
    "    psi=np.zeros((2, 2, 2, 2, 2, 2))\n",
    "    if init_psi is None:\n",
    "        psi=np.random.uniform(size=(2, 2, 2, 2, 2, 2))\n",
    "        psi=psi/np.sum(psi)\n",
    "    else:\n",
    "        psi=init_psi.copy()\n",
    "    \n",
    "    permutations=np.array(list(itertools.product([0,1], repeat=4)))\n",
    "    \n",
    "    for t in range(max_iter):\n",
    "        psi_new=np.zeros((2, 2, 2, 2, 2, 2))\n",
    "        for i in range(2):\n",
    "            for i_neighbour in range(2):\n",
    "                for i_neighbour2 in range(2):\n",
    "                    for j in range(2):\n",
    "                        for j_neighbour in range(2):\n",
    "                            for j_neighbour2 in range(2):\n",
    "                                for perm in permutations:\n",
    "                                    mult=1\n",
    "                                    if factor_function(i, i_neighbour, i_neighbour2, j, j_neighbour, j_neighbour2, perm, d)==0:\n",
    "                                        continue\n",
    "                                    #for _ in range(2): #mudar para degree\n",
    "                                    mult*=psi[i_neighbour, perm[0], perm[1], i, j, i_neighbour2]\n",
    "                                    mult*=psi[i_neighbour2, perm[2], perm[3], i, j, i_neighbour]\n",
    "                                    psi_new[i, i_neighbour, i_neighbour2, j, j_neighbour, j_neighbour2]+=np.exp(mu*i)*mult\n",
    "                    \n",
    "        if np.sum(psi_new)!=0:\n",
    "            psi_new=psi_new/np.sum(psi_new)\n",
    "        else:\n",
    "            psi_new=np.ones((2, 2, 2, 2, 2, 2))/64\n",
    "        \n",
    "        psi_new=damping_parameter*psi+(1-damping_parameter)*psi_new\n",
    "        \n",
    "        Delta=np.linalg.norm(psi_new-psi)\n",
    "        if verbose==2 and t%100==0:\n",
    "            print(\"Iter : \", t+1, \" Delta : \", Delta)\n",
    "        psi=psi_new\n",
    "        if Delta<tol:\n",
    "            break\n",
    "    \n",
    "    if t==max_iter-1:\n",
    "        print(\"No convergence\"+\" ! Final error: \"+ str(Delta))\n",
    "    else:\n",
    "        if verbose>=1:\n",
    "            print(\"Converged ! Number of iteration \"+str(t))\n",
    "    \n",
    "    return psi"
   ]
  },
  {
   "cell_type": "code",
   "execution_count": 15,
   "metadata": {},
   "outputs": [],
   "source": [
    "def update_observables(psi, mu, d=3):\n",
    "        phi_=0\n",
    "        phi__=0\n",
    "\n",
    "        permutations=np.array(list(itertools.product([0,1], repeat=4)))\n",
    "        \n",
    "        numerator=0\n",
    "        \n",
    "        for i in range(2):\n",
    "            for i_neighbour in range(2):\n",
    "                for i_neighbour2 in range(2):\n",
    "                    for j in range(2):\n",
    "                        for j_neighbour in range(2):\n",
    "                            for j_neighbour2 in range(2):\n",
    "                                for perm in permutations:\n",
    "                                    mult=1\n",
    "                                    if factor_function(i, i_neighbour, i_neighbour2, j, j_neighbour, j_neighbour2, perm, d)==0:\n",
    "                                        continue\n",
    "                                    mult*=psi[i_neighbour, perm[0], perm[1], i, j, i_neighbour2]\n",
    "                                    mult*=psi[i_neighbour2, perm[2], perm[3], i, j, i_neighbour]\n",
    "                                    mult*=psi[j, j_neighbour, j_neighbour2, i, i_neighbour, i_neighbour2]\n",
    "                                    phi_+=np.exp(mu*i)*mult\n",
    "                                    numerator+=i*mult*np.exp(mu*i)\n",
    "                                    \n",
    "                                phi__+=psi[i, i_neighbour, i_neighbour2, j, j_neighbour, j_neighbour2]*psi[j, j_neighbour, j_neighbour2, i, i_neighbour, i_neighbour2]\n",
    "\n",
    "        if phi_==0:\n",
    "            phi_=1e-16\n",
    "        if phi__==0:\n",
    "            phi__=1e-16\n",
    "        phi=np.log(phi_)-d/2*np.log(phi__)\n",
    "\n",
    "        if numerator==0:\n",
    "            rho=0\n",
    "        else:\n",
    "            rho=numerator/phi_\n",
    "            \n",
    "        s=phi-mu*rho\n",
    "\n",
    "        return phi, rho, s"
   ]
  },
  {
   "cell_type": "code",
   "execution_count": 16,
   "metadata": {},
   "outputs": [
    {
     "name": "stderr",
     "output_type": "stream",
     "text": [
      "100%|██████████| 100/100 [00:16<00:00,  6.24it/s]\n"
     ]
    }
   ],
   "source": [
    "mu_space = np.linspace(0, 12, 100)\n",
    "d = 3\n",
    "phi_list = []\n",
    "rho_list = []\n",
    "s_list = []\n",
    "for mu in tqdm(mu_space):\n",
    "    psi = BP(d, mu=mu, verbose=0)\n",
    "    phi, rho, s = update_observables(psi, mu, d)\n",
    "    phi_list.append(phi)\n",
    "    rho_list.append(rho)\n",
    "    s_list.append(s)"
   ]
  },
  {
   "cell_type": "code",
   "execution_count": 17,
   "metadata": {},
   "outputs": [
    {
     "data": {
      "image/png": "[encoded data removed]",
      "text/plain": [
       "<Figure size 640x480 with 1 Axes>"
      ]
     },
     "metadata": {},
     "output_type": "display_data"
    }
   ],
   "source": [
    "plt.plot(mu_space, rho_list, label='rho')\n",
    "plt.plot(mu_space, s_list, label='s')\n",
    "plt.xlabel('mu')\n",
    "plt.legend()\n",
    "plt.show()"
   ]
  },
  {
   "cell_type": "code",
   "execution_count": 18,
   "metadata": {},
   "outputs": [
    {
     "name": "stdout",
     "output_type": "stream",
     "text": [
      "0.2833081494569667\n"
     ]
    }
   ],
   "source": [
    "print(s_list[0])"
   ]
  },
  {
   "cell_type": "code",
   "execution_count": 19,
   "metadata": {},
   "outputs": [],
   "source": [
    "def find_zero_bisection(arr):\n",
    "    # Function to find zero using bisection method\n",
    "    left = 0\n",
    "    right = len(arr) - 1\n",
    "    if(arr[left]*arr[right] > 0):\n",
    "        print(\"No zero crossing found\")\n",
    "        return -1\n",
    "\n",
    "    while right - left > 1:\n",
    "        mid = (left + right) // 2\n",
    "        if arr[mid] == 0:\n",
    "            return mid  # Zero found at index 'mid'\n",
    "        elif arr[mid] * arr[left] < 0:\n",
    "            right = mid\n",
    "        else:\n",
    "            left = mid\n",
    "\n",
    "    # If exact zero not found, return the index closest to zero\n",
    "    return left if abs(arr[left]) < abs(arr[right]) else right"
   ]
  },
  {
   "cell_type": "code",
   "execution_count": 21,
   "metadata": {},
   "outputs": [
    {
     "name": "stdout",
     "output_type": "stream",
     "text": [
      "0.23537704289905934\n"
     ]
    }
   ],
   "source": [
    "find_zero_bisection(s_list)\n",
    "print(rho_list[find_zero_bisection(s_list)])"
   ]
  },
  {
   "cell_type": "code",
   "execution_count": null,
   "metadata": {},
   "outputs": [],
   "source": []
  }
 ],
 "metadata": {
  "kernelspec": {
   "display_name": "Python 3",
   "language": "python",
   "name": "python3"
  },
  "language_info": {
   "codemirror_mode": {
    "name": "ipython",
    "version": 3
   },
   "file_extension": ".py",
   "mimetype": "text/x-python",
   "name": "python",
   "nbconvert_exporter": "python",
   "pygments_lexer": "ipython3",
   "version": "3.11.4"
  }
 },
 "nbformat": 4,
 "nbformat_minor": 2
}
