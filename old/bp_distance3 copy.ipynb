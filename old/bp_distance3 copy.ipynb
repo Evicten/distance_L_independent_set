{
 "cells": [
  {
   "cell_type": "code",
   "execution_count": 25,
   "metadata": {},
   "outputs": [],
   "source": [
    "import numpy as np\n",
    "import matplotlib.pyplot as plt\n",
    "import itertools\n",
    "from tqdm import tqdm"
   ]
  },
  {
   "cell_type": "code",
   "execution_count": 26,
   "metadata": {},
   "outputs": [],
   "source": [
    "def factor_function(sigma_i, sigma_j, j_neighbour, j_neighbour2, permutation, d):\n",
    "    final = 1\n",
    "    first_neighbours = [sigma_j, permutation[0], permutation[3]]\n",
    "    second_neighbours = [[j_neighbour, j_neighbour2],list(permutation[1:3]),list(permutation[4:6])]\n",
    "    for idx, j in enumerate(first_neighbours):\n",
    "        if j==1:\n",
    "            total = sigma_i + np.sum(first_neighbours) - 1\n",
    "            for idx2, neighbours in enumerate(second_neighbours):\n",
    "                if idx2 != idx:\n",
    "                    total += np.sum(neighbours)\n",
    "            if total == 0:\n",
    "                final *= 1\n",
    "            else:\n",
    "                final *= 0\n",
    "        if final == 0:\n",
    "            return 0\n",
    "    return final"
   ]
  },
  {
   "cell_type": "code",
   "execution_count": 27,
   "metadata": {},
   "outputs": [],
   "source": [
    "def BP(d, mu=0, tol=1e-12, max_iter=10000, damping_parameter=0.8, verbose=0, init_psi=None):\n",
    "    psi=np.zeros((2, 2, 2, 2))\n",
    "    if init_psi is None:\n",
    "        psi=np.random.uniform(size=(2, 2, 2, 2))\n",
    "        psi=psi/np.sum(psi)\n",
    "    else:\n",
    "        psi=init_psi.copy()\n",
    "    \n",
    "    permutations=np.array(list(itertools.product([0,1], repeat=6)))\n",
    "    \n",
    "    for t in range(max_iter):\n",
    "        psi_new=np.zeros((2, 2, 2, 2))\n",
    "        for i in range(2):\n",
    "            for j in range(2):\n",
    "                for j_neighbour in range(2):\n",
    "                    for j_neighbour2 in range(2):\n",
    "                        for perm in permutations:\n",
    "                            mult=1\n",
    "                            if factor_function(i, j, j_neighbour, j_neighbour2, perm, d)==0:\n",
    "                                continue\n",
    "                            #for _ in range(2): #mudar para degree\n",
    "                            mult*=psi[i, perm[0], perm[1], perm[2]]\n",
    "                            mult*=psi[i, perm[3], perm[4], perm[5]]\n",
    "                            psi_new[i, j, j_neighbour, j_neighbour2]+=np.exp(mu*i)*mult\n",
    "                    \n",
    "        if np.sum(psi_new)!=0:\n",
    "            psi_new=psi_new/np.sum(psi_new)\n",
    "        else:\n",
    "            psi_new=np.ones((2, 2, 2, 2, 2, 2))/64\n",
    "        \n",
    "        psi_new=damping_parameter*psi+(1-damping_parameter)*psi_new\n",
    "        \n",
    "        Delta=np.linalg.norm(psi_new-psi)\n",
    "        if verbose==2 and t%100==0:\n",
    "            print(\"Iter : \", t+1, \" Delta : \", Delta)\n",
    "        psi=psi_new\n",
    "        if Delta<tol:\n",
    "            break\n",
    "    \n",
    "    if t==max_iter-1:\n",
    "        print(\"No convergence\"+\" ! Final error: \"+ str(Delta))\n",
    "    else:\n",
    "        if verbose>=1:\n",
    "            print(\"Converged ! Number of iteration \"+str(t))\n",
    "    \n",
    "    return psi"
   ]
  },
  {
   "cell_type": "code",
   "execution_count": 28,
   "metadata": {},
   "outputs": [],
   "source": [
    "psi = BP(3, mu=3, verbose=0)"
   ]
  },
  {
   "cell_type": "code",
   "execution_count": 29,
   "metadata": {},
   "outputs": [
    {
     "name": "stdout",
     "output_type": "stream",
     "text": [
      "[[[[9.45504293e-13 5.72882819e-13]\n",
      "   [5.49482287e-13 3.32285982e-13]]\n",
      "\n",
      "  [[1.36899562e-13 7.92234819e-13]\n",
      "   [7.22181735e-13 3.39078315e-13]]]\n",
      "\n",
      "\n",
      " [[[2.50000000e-01 2.50000000e-01]\n",
      "   [2.50000000e-01 2.50000000e-01]]\n",
      "\n",
      "  [[7.85639972e-13 5.25749943e-13]\n",
      "   [1.63368811e-13 3.67327143e-15]]]]\n"
     ]
    }
   ],
   "source": [
    "print(psi)"
   ]
  },
  {
   "cell_type": "code",
   "execution_count": 33,
   "metadata": {},
   "outputs": [],
   "source": [
    "def update_observables(psi, mu, d=3):\n",
    "        phi_=0\n",
    "        phi__=0\n",
    "\n",
    "        permutations=np.array(list(itertools.product([0,1], repeat=6)))\n",
    "        \n",
    "        numerator=0\n",
    "        \n",
    "        for i in range(2):\n",
    "            for j in range(2):\n",
    "                for j_neighbour in range(2):\n",
    "                    for j_neighbour2 in range(2):\n",
    "                        for perm in permutations:\n",
    "                            mult=1\n",
    "                            if factor_function(i, j, j_neighbour, j_neighbour2, perm, d)==0:\n",
    "                                continue\n",
    "                            mult*=psi[i, perm[0], perm[1], perm[2]]\n",
    "                            mult*=psi[i, perm[3], perm[4], perm[5]]\n",
    "                            mult*=psi[i, j, j_neighbour, j_neighbour2]\n",
    "                            phi_+=mult*np.exp(mu*i)\n",
    "                            numerator+=i*mult*np.exp(mu*i)\n",
    "                            \n",
    "                        phi__+=psi[i, j, j_neighbour, j_neighbour2]*psi[j, i, perm[0], perm[3]]\n",
    "\n",
    "        if phi_==0:\n",
    "            phi_=1e-16\n",
    "        if phi__==0:\n",
    "            phi__=1e-16\n",
    "        phi=np.log(phi_)-d/2*np.log(phi__)\n",
    "\n",
    "        if numerator==0:\n",
    "            rho=0\n",
    "        else:\n",
    "            rho=numerator/phi_\n",
    "            \n",
    "        s=phi-mu*rho\n",
    "\n",
    "        return phi, rho, s"
   ]
  },
  {
   "cell_type": "code",
   "execution_count": 34,
   "metadata": {},
   "outputs": [
    {
     "name": "stderr",
     "output_type": "stream",
     "text": [
      "100%|██████████| 50/50 [00:40<00:00,  1.25it/s]\n"
     ]
    }
   ],
   "source": [
    "mu_space = np.linspace(0, 7, 50)\n",
    "d = 3\n",
    "phi_list = []\n",
    "rho_list = []\n",
    "s_list = []\n",
    "for mu in tqdm(mu_space):\n",
    "    psi = BP(d, mu=mu, verbose=0)\n",
    "    phi, rho, s = update_observables(psi, mu, d)\n",
    "    phi_list.append(phi)\n",
    "    rho_list.append(rho)\n",
    "    s_list.append(s)"
   ]
  },
  {
   "cell_type": "code",
   "execution_count": 35,
   "metadata": {},
   "outputs": [
    {
     "data": {
      "image/png": "[encoded data removed]",
      "text/plain": [
       "<Figure size 640x480 with 1 Axes>"
      ]
     },
     "metadata": {},
     "output_type": "display_data"
    }
   ],
   "source": [
    "plt.plot(mu_space, rho_list, label='rho')\n",
    "plt.plot(mu_space, s_list, label='s')\n",
    "plt.xlabel('mu')\n",
    "plt.legend()\n",
    "plt.show()"
   ]
  },
  {
   "cell_type": "code",
   "execution_count": null,
   "metadata": {},
   "outputs": [],
   "source": []
  }
 ],
 "metadata": {
  "kernelspec": {
   "display_name": "Python 3",
   "language": "python",
   "name": "python3"
  },
  "language_info": {
   "codemirror_mode": {
    "name": "ipython",
    "version": 3
   },
   "file_extension": ".py",
   "mimetype": "text/x-python",
   "name": "python",
   "nbconvert_exporter": "python",
   "pygments_lexer": "ipython3",
   "version": "3.11.4"
  }
 },
 "nbformat": 4,
 "nbformat_minor": 2
}
