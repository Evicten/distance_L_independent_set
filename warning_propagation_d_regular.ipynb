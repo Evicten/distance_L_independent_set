{
 "cells": [
  {
   "cell_type": "code",
   "execution_count": 3,
   "metadata": {},
   "outputs": [],
   "source": [
    "import numpy as np\n",
    "import matplotlib.pyplot as plt\n",
    "from tqdm import tqdm"
   ]
  },
  {
   "cell_type": "code",
   "execution_count": 4,
   "metadata": {},
   "outputs": [],
   "source": [
    "def gen_configurations(d):\n",
    "    \"\"\"\n",
    "    returns all possible configurations of d-1 neighbours\n",
    "    \"\"\"\n",
    "    return np.array(np.meshgrid(*[[0, 1]] * (d-1))).T.reshape(-1, d-1)"
   ]
  },
  {
   "cell_type": "code",
   "execution_count": 5,
   "metadata": {},
   "outputs": [],
   "source": [
    "def respect_rule(rule, i, j, rest_config):\n",
    "        outer_density=j+np.sum(rest_config)\n",
    "        if rule[outer_density]=='0':\n",
    "            return True if i==0 else False\n",
    "        elif rule[outer_density]=='1':\n",
    "            return True if i==1 else False\n",
    "        elif rule[outer_density]=='+':\n",
    "            return True\n",
    "        elif rule[outer_density]=='-':\n",
    "            return False\n",
    "\n",
    "def rule_satisfied(sigma_i, sigma_j, configuration, rule_plus):\n",
    "    \"\"\"\n",
    "    returns True if the configuration satisfies the rule, False otherwise\n",
    "    \"\"\"\n",
    "\n",
    "    if rule_plus:\n",
    "        if np.sum(np.concatenate((configuration, np.array([sigma_j])))*sigma_i) == 0:\n",
    "            return True\n",
    "        else:\n",
    "            return False\n",
    "    else:\n",
    "        if np.sum(np.concatenate((configuration, np.array([sigma_j])))*sigma_i) == 0 and sigma_i + sigma_j + np.sum(configuration) > 0:\n",
    "            return True\n",
    "        else:\n",
    "            return False"
   ]
  },
  {
   "cell_type": "code",
   "execution_count": 6,
   "metadata": {},
   "outputs": [],
   "source": [
    "def neighbouring_warnings_allow(sigma_i, configuration, warning_prev):\n",
    "    \"\"\"\n",
    "    returns True if the neighbouring warnings allow the configuration, False otherwise\n",
    "    \"\"\"\n",
    "    \n",
    "    for k in range(len(configuration)):\n",
    "        sigma_k = configuration[k]\n",
    "        if warning_prev[sigma_k, sigma_i] == 0:\n",
    "            return False\n",
    "\n",
    "    return True"
   ]
  },
  {
   "cell_type": "code",
   "execution_count": 19,
   "metadata": {},
   "outputs": [],
   "source": [
    "def warning_propagation_update(warning_prev, rule, d):\n",
    "    \"\"\"\n",
    "    neighbouring warnings (list): list of warnings of neighbouring nodes k except j\n",
    "\n",
    "    returns warning i -> j (2x2 array)\n",
    "    \"\"\"\n",
    "    warning = np.zeros((2, 2))\n",
    "    for sigma_i in range(2):\n",
    "        for sigma_j in range(2):\n",
    "            configurations = gen_configurations(d)\n",
    "            for configuration in configurations:\n",
    "                if respect_rule(rule, sigma_i, sigma_j, configuration) and neighbouring_warnings_allow(sigma_i, configuration, warning_prev):\n",
    "                    warning[sigma_i, sigma_j] = 1\n",
    "                    break\n",
    "    return warning"
   ]
  },
  {
   "cell_type": "code",
   "execution_count": 20,
   "metadata": {},
   "outputs": [],
   "source": [
    "def warning_propagation(warning_init, rule, num_iters = 100):\n",
    "    d = len(rule)-1\n",
    "    warning = warning_init.copy()\n",
    "    converged = False\n",
    "\n",
    "    for _ in tqdm(np.arange(num_iters)):\n",
    "        warning_prev = warning.copy()\n",
    "        warning[:, :] = warning_propagation_update(warning_prev, rule, d)\n",
    "        if np.array_equal(warning, warning_prev):\n",
    "            converged = True\n",
    "            break\n",
    "\n",
    "    \n",
    "    return warning, converged"
   ]
  },
  {
   "cell_type": "code",
   "execution_count": 21,
   "metadata": {},
   "outputs": [
    {
     "name": "stderr",
     "output_type": "stream",
     "text": [
      "  0%|          | 0/1000 [00:00<?, ?it/s]\n"
     ]
    },
    {
     "name": "stdout",
     "output_type": "stream",
     "text": [
      "[[0 0]\n",
      " [0 0]]\n",
      "Did it converge? True\n",
      "[[0 0]\n",
      " [0 0]]\n",
      "-------------------\n"
     ]
    },
    {
     "name": "stderr",
     "output_type": "stream",
     "text": [
      "  0%|          | 1/1000 [00:00<00:00, 2155.35it/s]\n"
     ]
    },
    {
     "name": "stdout",
     "output_type": "stream",
     "text": [
      "[[0 0]\n",
      " [0 1]]\n",
      "Did it converge? True\n",
      "[[0 0]\n",
      " [0 0]]\n",
      "-------------------\n"
     ]
    },
    {
     "name": "stderr",
     "output_type": "stream",
     "text": [
      "  0%|          | 3/1000 [00:00<00:00, 4903.71it/s]\n"
     ]
    },
    {
     "name": "stdout",
     "output_type": "stream",
     "text": [
      "[[0 0]\n",
      " [1 0]]\n",
      "Did it converge? True\n",
      "[[1 1]\n",
      " [1 0]]\n",
      "-------------------\n"
     ]
    },
    {
     "name": "stderr",
     "output_type": "stream",
     "text": [
      "  0%|          | 3/1000 [00:00<00:00, 5640.03it/s]\n"
     ]
    },
    {
     "name": "stdout",
     "output_type": "stream",
     "text": [
      "[[0 0]\n",
      " [1 1]]\n",
      "Did it converge? True\n",
      "[[1 1]\n",
      " [1 0]]\n",
      "-------------------\n"
     ]
    },
    {
     "name": "stderr",
     "output_type": "stream",
     "text": [
      "  0%|          | 4/1000 [00:00<00:00, 7650.35it/s]\n"
     ]
    },
    {
     "name": "stdout",
     "output_type": "stream",
     "text": [
      "[[0 1]\n",
      " [0 0]]\n",
      "Did it converge? True\n",
      "[[1 1]\n",
      " [1 0]]\n",
      "-------------------\n"
     ]
    },
    {
     "name": "stderr",
     "output_type": "stream",
     "text": [
      "  0%|          | 4/1000 [00:00<00:00, 7605.27it/s]\n"
     ]
    },
    {
     "name": "stdout",
     "output_type": "stream",
     "text": [
      "[[0 1]\n",
      " [0 1]]\n",
      "Did it converge? True\n",
      "[[1 1]\n",
      " [1 0]]\n",
      "-------------------\n"
     ]
    },
    {
     "name": "stderr",
     "output_type": "stream",
     "text": [
      "  0%|          | 1/1000 [00:00<00:00, 4258.18it/s]\n"
     ]
    },
    {
     "name": "stdout",
     "output_type": "stream",
     "text": [
      "[[0 1]\n",
      " [1 0]]\n",
      "Did it converge? True\n",
      "[[1 1]\n",
      " [1 0]]\n",
      "-------------------\n"
     ]
    },
    {
     "name": "stderr",
     "output_type": "stream",
     "text": [
      "  0%|          | 1/1000 [00:00<00:00, 4364.52it/s]\n"
     ]
    },
    {
     "name": "stdout",
     "output_type": "stream",
     "text": [
      "[[0 1]\n",
      " [1 1]]\n",
      "Did it converge? True\n",
      "[[1 1]\n",
      " [1 0]]\n",
      "-------------------\n"
     ]
    },
    {
     "name": "stderr",
     "output_type": "stream",
     "text": [
      "  0%|          | 5/1000 [00:00<00:00, 7530.17it/s]\n"
     ]
    },
    {
     "name": "stdout",
     "output_type": "stream",
     "text": [
      "[[1 0]\n",
      " [0 0]]\n",
      "Did it converge? True\n",
      "[[1 1]\n",
      " [1 0]]\n",
      "-------------------\n"
     ]
    },
    {
     "name": "stderr",
     "output_type": "stream",
     "text": [
      "  0%|          | 5/1000 [00:00<00:00, 9485.08it/s]\n"
     ]
    },
    {
     "name": "stdout",
     "output_type": "stream",
     "text": [
      "[[1 0]\n",
      " [0 1]]\n",
      "Did it converge? True\n",
      "[[1 1]\n",
      " [1 0]]\n",
      "-------------------\n"
     ]
    },
    {
     "name": "stderr",
     "output_type": "stream",
     "text": [
      "  0%|          | 3/1000 [00:00<00:00, 7999.31it/s]\n"
     ]
    },
    {
     "name": "stdout",
     "output_type": "stream",
     "text": [
      "[[1 0]\n",
      " [1 0]]\n",
      "Did it converge? True\n",
      "[[1 1]\n",
      " [1 0]]\n",
      "-------------------\n"
     ]
    },
    {
     "name": "stderr",
     "output_type": "stream",
     "text": [
      "  0%|          | 3/1000 [00:00<00:00, 8289.14it/s]\n"
     ]
    },
    {
     "name": "stdout",
     "output_type": "stream",
     "text": [
      "[[1 0]\n",
      " [1 1]]\n",
      "Did it converge? True\n",
      "[[1 1]\n",
      " [1 0]]\n",
      "-------------------\n"
     ]
    },
    {
     "name": "stderr",
     "output_type": "stream",
     "text": [
      "  0%|          | 2/1000 [00:00<00:00, 4609.13it/s]\n"
     ]
    },
    {
     "name": "stdout",
     "output_type": "stream",
     "text": [
      "[[1 1]\n",
      " [0 0]]\n",
      "Did it converge? True\n",
      "[[1 1]\n",
      " [1 0]]\n",
      "-------------------\n"
     ]
    },
    {
     "name": "stderr",
     "output_type": "stream",
     "text": [
      "  0%|          | 2/1000 [00:00<00:00, 3787.18it/s]\n"
     ]
    },
    {
     "name": "stdout",
     "output_type": "stream",
     "text": [
      "[[1 1]\n",
      " [0 1]]\n",
      "Did it converge? True\n",
      "[[1 1]\n",
      " [1 0]]\n",
      "-------------------\n"
     ]
    },
    {
     "name": "stderr",
     "output_type": "stream",
     "text": [
      "  0%|          | 0/1000 [00:00<?, ?it/s]\n"
     ]
    },
    {
     "name": "stdout",
     "output_type": "stream",
     "text": [
      "[[1 1]\n",
      " [1 0]]\n",
      "Did it converge? True\n",
      "[[1 1]\n",
      " [1 0]]\n",
      "-------------------\n"
     ]
    },
    {
     "name": "stderr",
     "output_type": "stream",
     "text": [
      "  0%|          | 1/1000 [00:00<00:00, 2078.45it/s]"
     ]
    },
    {
     "name": "stdout",
     "output_type": "stream",
     "text": [
      "[[1 1]\n",
      " [1 1]]\n",
      "Did it converge? True\n",
      "[[1 1]\n",
      " [1 0]]\n",
      "-------------------\n"
     ]
    },
    {
     "name": "stderr",
     "output_type": "stream",
     "text": [
      "\n"
     ]
    }
   ],
   "source": [
    "warning_init_space = []\n",
    "for i in range(2):\n",
    "    for j in range(2):\n",
    "        for k in range(2):\n",
    "            for l in range(2):\n",
    "                warning_init_space.append(np.array([[i, j], [k, l]]))\n",
    "\n",
    "rule = ['1', '0', '0', '0']\n",
    "\n",
    "for warning_init in warning_init_space:\n",
    "    warning_fixed_point, converged = warning_propagation(warning_init, rule=rule, num_iters = 1000)\n",
    "    print(warning_init)\n",
    "    print(\"Did it converge?\", converged)\n",
    "    print(warning_fixed_point)\n",
    "    print('-------------------')"
   ]
  },
  {
   "cell_type": "code",
   "execution_count": 22,
   "metadata": {},
   "outputs": [
    {
     "name": "stderr",
     "output_type": "stream",
     "text": [
      "  0%|          | 0/1000 [00:00<?, ?it/s]\n"
     ]
    },
    {
     "name": "stdout",
     "output_type": "stream",
     "text": [
      "[[0 0]\n",
      " [0 0]]\n",
      "Did it converge? True\n",
      "[[0 0]\n",
      " [0 0]]\n",
      "-------------------\n"
     ]
    },
    {
     "name": "stderr",
     "output_type": "stream",
     "text": [
      "  0%|          | 1/1000 [00:00<00:00, 1477.91it/s]\n"
     ]
    },
    {
     "name": "stdout",
     "output_type": "stream",
     "text": [
      "[[0 0]\n",
      " [0 1]]\n",
      "Did it converge? True\n",
      "[[0 0]\n",
      " [0 0]]\n",
      "-------------------\n"
     ]
    },
    {
     "name": "stderr",
     "output_type": "stream",
     "text": [
      "100%|██████████| 1000/1000 [00:00<00:00, 7338.05it/s]\n"
     ]
    },
    {
     "name": "stdout",
     "output_type": "stream",
     "text": [
      "[[0 0]\n",
      " [1 0]]\n",
      "Did it converge? False\n",
      "[[1 0]\n",
      " [1 1]]\n",
      "-------------------\n"
     ]
    },
    {
     "name": "stderr",
     "output_type": "stream",
     "text": [
      "100%|██████████| 1000/1000 [00:00<00:00, 7789.85it/s]\n"
     ]
    },
    {
     "name": "stdout",
     "output_type": "stream",
     "text": [
      "[[0 0]\n",
      " [1 1]]\n",
      "Did it converge? False\n",
      "[[1 0]\n",
      " [1 1]]\n",
      "-------------------\n"
     ]
    },
    {
     "name": "stderr",
     "output_type": "stream",
     "text": [
      "100%|██████████| 1000/1000 [00:00<00:00, 7512.53it/s]\n"
     ]
    },
    {
     "name": "stdout",
     "output_type": "stream",
     "text": [
      "[[0 1]\n",
      " [0 0]]\n",
      "Did it converge? False\n",
      "[[1 1]\n",
      " [0 0]]\n",
      "-------------------\n"
     ]
    },
    {
     "name": "stderr",
     "output_type": "stream",
     "text": [
      "100%|██████████| 1000/1000 [00:00<00:00, 7529.61it/s]\n"
     ]
    },
    {
     "name": "stdout",
     "output_type": "stream",
     "text": [
      "[[0 1]\n",
      " [0 1]]\n",
      "Did it converge? False\n",
      "[[1 1]\n",
      " [0 0]]\n",
      "-------------------\n"
     ]
    },
    {
     "name": "stderr",
     "output_type": "stream",
     "text": [
      "  0%|          | 1/1000 [00:00<00:00, 3560.53it/s]\n"
     ]
    },
    {
     "name": "stdout",
     "output_type": "stream",
     "text": [
      "[[0 1]\n",
      " [1 0]]\n",
      "Did it converge? True\n",
      "[[1 1]\n",
      " [1 1]]\n",
      "-------------------\n"
     ]
    },
    {
     "name": "stderr",
     "output_type": "stream",
     "text": [
      "  0%|          | 1/1000 [00:00<00:00, 3292.23it/s]\n"
     ]
    },
    {
     "name": "stdout",
     "output_type": "stream",
     "text": [
      "[[0 1]\n",
      " [1 1]]\n",
      "Did it converge? True\n",
      "[[1 1]\n",
      " [1 1]]\n",
      "-------------------\n"
     ]
    },
    {
     "name": "stderr",
     "output_type": "stream",
     "text": [
      "  0%|          | 0/1000 [00:00<?, ?it/s]\n"
     ]
    },
    {
     "name": "stdout",
     "output_type": "stream",
     "text": [
      "[[1 0]\n",
      " [0 0]]\n",
      "Did it converge? True\n",
      "[[1 0]\n",
      " [0 0]]\n",
      "-------------------\n"
     ]
    },
    {
     "name": "stderr",
     "output_type": "stream",
     "text": [
      "  0%|          | 1/1000 [00:00<00:00, 2341.88it/s]\n"
     ]
    },
    {
     "name": "stdout",
     "output_type": "stream",
     "text": [
      "[[1 0]\n",
      " [0 1]]\n",
      "Did it converge? True\n",
      "[[1 0]\n",
      " [0 0]]\n",
      "-------------------\n"
     ]
    },
    {
     "name": "stderr",
     "output_type": "stream",
     "text": [
      "100%|██████████| 1000/1000 [00:00<00:00, 7139.03it/s]\n"
     ]
    },
    {
     "name": "stdout",
     "output_type": "stream",
     "text": [
      "[[1 0]\n",
      " [1 0]]\n",
      "Did it converge? False\n",
      "[[1 0]\n",
      " [1 1]]\n",
      "-------------------\n"
     ]
    },
    {
     "name": "stderr",
     "output_type": "stream",
     "text": [
      "100%|██████████| 1000/1000 [00:00<00:00, 7477.69it/s]\n"
     ]
    },
    {
     "name": "stdout",
     "output_type": "stream",
     "text": [
      "[[1 0]\n",
      " [1 1]]\n",
      "Did it converge? False\n",
      "[[1 0]\n",
      " [1 1]]\n",
      "-------------------\n"
     ]
    },
    {
     "name": "stderr",
     "output_type": "stream",
     "text": [
      "100%|██████████| 1000/1000 [00:00<00:00, 7445.22it/s]\n"
     ]
    },
    {
     "name": "stdout",
     "output_type": "stream",
     "text": [
      "[[1 1]\n",
      " [0 0]]\n",
      "Did it converge? False\n",
      "[[1 1]\n",
      " [0 0]]\n",
      "-------------------\n"
     ]
    },
    {
     "name": "stderr",
     "output_type": "stream",
     "text": [
      "100%|██████████| 1000/1000 [00:00<00:00, 7484.26it/s]\n"
     ]
    },
    {
     "name": "stdout",
     "output_type": "stream",
     "text": [
      "[[1 1]\n",
      " [0 1]]\n",
      "Did it converge? False\n",
      "[[1 1]\n",
      " [0 0]]\n",
      "-------------------\n"
     ]
    },
    {
     "name": "stderr",
     "output_type": "stream",
     "text": [
      "  0%|          | 1/1000 [00:00<00:00, 3890.82it/s]\n"
     ]
    },
    {
     "name": "stdout",
     "output_type": "stream",
     "text": [
      "[[1 1]\n",
      " [1 0]]\n",
      "Did it converge? True\n",
      "[[1 1]\n",
      " [1 1]]\n",
      "-------------------\n"
     ]
    },
    {
     "name": "stderr",
     "output_type": "stream",
     "text": [
      "  0%|          | 0/1000 [00:00<?, ?it/s]"
     ]
    },
    {
     "name": "stdout",
     "output_type": "stream",
     "text": [
      "[[1 1]\n",
      " [1 1]]\n",
      "Did it converge? True\n",
      "[[1 1]\n",
      " [1 1]]\n",
      "-------------------\n"
     ]
    },
    {
     "name": "stderr",
     "output_type": "stream",
     "text": [
      "\n"
     ]
    }
   ],
   "source": [
    "warning_init_space = []\n",
    "for i in range(2):\n",
    "    for j in range(2):\n",
    "        for k in range(2):\n",
    "            for l in range(2):\n",
    "                warning_init_space.append(np.array([[i, j], [k, l]]))\n",
    "\n",
    "rule = ['+', '1', '0', '0', '0', '0']\n",
    "\n",
    "for warning_init in warning_init_space:\n",
    "    warning_fixed_point, converged = warning_propagation(warning_init, rule, num_iters = 1000)\n",
    "    print(warning_init)\n",
    "    print(\"Did it converge?\", converged)\n",
    "    print(warning_fixed_point)\n",
    "    print('-------------------')"
   ]
  },
  {
   "cell_type": "code",
   "execution_count": null,
   "metadata": {},
   "outputs": [],
   "source": []
  }
 ],
 "metadata": {
  "kernelspec": {
   "display_name": "Python 3",
   "language": "python",
   "name": "python3"
  },
  "language_info": {
   "codemirror_mode": {
    "name": "ipython",
    "version": 3
   },
   "file_extension": ".py",
   "mimetype": "text/x-python",
   "name": "python",
   "nbconvert_exporter": "python",
   "pygments_lexer": "ipython3",
   "version": "3.11.4"
  }
 },
 "nbformat": 4,
 "nbformat_minor": 2
}
